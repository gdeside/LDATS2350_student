{
 "cells": [
  {
   "cell_type": "markdown",
   "id": "6016d3e352bd956c",
   "metadata": {},
   "source": [
    "# <span style=\"color:darkblue;\">[LDATS2350] - DATA MINING</span>\n",
    "\n",
    "### <span style=\"color:darkred;\">Python13 - Logistic Regression</span>\n",
    "\n",
    "**Prof. Robin Van Oirbeek**  \n",
    "\n",
    "<br/>\n",
    "\n",
    "**<span style=\"color:darkgreen;\">Guillaume Deside</span>** (<span style=\"color:gray;\">guillaume.deside@uclouvain.be</span>)\n",
    "\n",
    "---\n",
    "\n",
    "## **🔹 What is Logistic Regression?**\n",
    "Logistic Regression is a **supervised learning algorithm** used for **binary classification** problems. Unlike linear regression, which predicts continuous values, **logistic regression predicts the probability** of a given class.\n",
    "\n",
    "### **Key Characteristics:**\n",
    "✅ Used for **binary classification** (Yes/No, Spam/Not Spam, Churn/No Churn).  \n",
    "✅ Outputs a probability score between **0 and 1**.  \n",
    "✅ Uses the **sigmoid function** to map any real-valued number into the range **(0,1)**.  \n",
    "✅ The decision boundary is defined by a threshold (e.g., **0.5**).  \n",
    "\n",
    "---\n",
    "\n",
    "## **🔹 The Logistic (Sigmoid) Function**\n",
    "The logistic function is given by:\n",
    "\n",
    "\n",
    "$\\sigma(z) = \\frac{1}{1 + e^{-z}}\n",
    "$\n",
    "\n",
    "where:\n",
    "\n",
    "\n",
    "$z = w_1 X_1 + w_2 X_2 + ... + w_n X_n + b = \\mathbf{w}^T \\mathbf{x} + b$\n",
    "\n",
    "- $ X $ = feature vector  \n",
    "- $ w $ = weight coefficients  \n",
    "- $ b $ = bias term  \n",
    "- $ e $ = Euler’s number (**≈ 2.718**)  \n",
    "\n",
    "The output of the function is a probability value between **0 and 1**.\n",
    "\n",
    "**Decision Rule:**  \n",
    "$\n",
    "\\hat{y} =\n",
    "\\begin{cases} \n",
    "1, & \\text{if } \\sigma(z) \\geq 0.5 \\\\ \n",
    "0, & \\text{otherwise}\n",
    "\\end{cases}\n",
    "$\n",
    "\n",
    "🚀 **Interpretation:**  \n",
    "- If **\\( P(y=1 | X) \\) ≥ 0.5**, classify the input as **Class 1**.  \n",
    "- If **\\( P(y=1 | X) \\) < 0.5**, classify the input as **Class 0**.\n",
    "\n",
    "---\n",
    "\n",
    "## **🔹 Cost Function for Logistic Regression**\n",
    "Logistic Regression **does not** use Mean Squared Error (MSE) as its cost function because it leads to a **non-convex** function, making optimization difficult.\n",
    "\n",
    "Instead, if we maximizes the likelihood\n",
    "$$ L(w) :=P(Y_1=y_1,\\ldots,Y_m=y_m|w,x_1,\\dots,x_m) =\\Pi_{i=1}^nP(Y_i=y_i|w,x_1,\\dots,x_m). $$\n",
    "Assuming independence:\n",
    "$$ L(w) := \\prod_{i|y_i=1} p(x_i) * \\prod_{i|y_i=0}(1- p(x_i)) $$\n",
    "$$ L(w) := \\prod_{i=1}^n p(x_i)^{y_i}(1- p(x_i))^{1-y_i} $$\n",
    "\n",
    "is equivalent to maximize the log likelihood\n",
    "\n",
    "$$l(w)=\\sum_{i=1}^n (y_i log(p(x_i)) + (1-y_i) log(1- p(x_i)) )$$\n",
    "$$ = \\sum_{i=1}^n (y_i log(\\frac{p(x_i}{1-p(x_i)}) + log(1-p(x_i))) $$\n",
    "\n",
    "\n",
    "Therefore we aim to resolve the following optimization problem\n",
    "$$\\min_{w} \\frac{1}{2}||w||^2 + C \\sum_{i=1}^n (y_i w^T x_i) - log(1-e^{w^T x_i})) $$\n",
    "\n",
    "\n",
    "## **🔹 Logistic Regression vs Linear Regression**\n",
    "| Feature | Linear Regression | Logistic Regression |\n",
    "|---------|------------------|----------------------|\n",
    "| **Output Type** | Continuous | Probability (0-1) |\n",
    "| **Function Used** | Linear Equation | Sigmoid Function |\n",
    "| **Use Case** | Regression | Classification |\n",
    "| **Loss Function** | Mean Squared Error (MSE) | Log Loss (Binary Cross Entropy) |\n",
    "| **Decision Boundary** | Any real number | Threshold (0.5) |\n",
    "\n",
    "---\n",
    "\n",
    "## **🔹 Visual Representation of Logistic Regression**\n",
    "\n",
    "\n",
    "![Logistic Regression Visualization](https://www.saedsayad.com/images/LogReg_1.png)\n",
    "\n",
    "\n",
    "\n",
    "---\n",
    "\n",
    "## **🎯 Summary**\n",
    "✅ Logistic Regression is used for **classification** tasks, not regression.  \n",
    "✅ Uses the **sigmoid function** to map real values to probabilities.  \n",
    "✅ The **cost function is Log Loss**, optimized using **Gradient Descent**.  \n",
    "✅ The **decision threshold (0.5)** determines classification.  \n",
    "\n",
    "🚀 **Next Steps:** Implement Logistic Regression in Python using `scikit-learn`! 🏆\n",
    "---"
   ]
  },
  {
   "cell_type": "markdown",
   "id": "8b88774a13b3b498",
   "metadata": {},
   "source": [
    "# Data Loading"
   ]
  },
  {
   "cell_type": "code",
   "execution_count": 3,
   "id": "27dee97fab324c6",
   "metadata": {
    "ExecuteTime": {
     "end_time": "2025-03-07T08:54:46.752381Z",
     "start_time": "2025-03-07T08:54:46.748151Z"
    }
   },
   "outputs": [],
   "source": [
    "import pandas as pd\n",
    "data = pd.read_csv('diabetes.csv')"
   ]
  },
  {
   "cell_type": "code",
   "execution_count": 5,
   "id": "4a517cf09d152633",
   "metadata": {
    "ExecuteTime": {
     "end_time": "2025-03-07T08:55:22.612921Z",
     "start_time": "2025-03-07T08:55:21.993778Z"
    }
   },
   "outputs": [
    {
     "name": "stdout",
     "output_type": "stream",
     "text": [
      "(537, 8)\n"
     ]
    }
   ],
   "source": [
    "X = data.iloc[:,0:-1]\n",
    "column_names = list(X) \n",
    "y = data.iloc[:,-1] \n",
    "\n",
    "from sklearn.preprocessing import StandardScaler\n",
    "#from sklearn.preprocessing import MinMaxScaler\n",
    "'''\n",
    "USING STANDARDSCALER:\n",
    "\n",
    "Standardize features by removing the mean and scaling to unit variance\n",
    "\n",
    "Centering and scaling happen independently on each feature by computing the relevant statistics on the samples in the training set. Mean and standard deviation are then stored to be used on later data using the transform method.\n",
    "\n",
    "Standardization of a dataset is a common requirement for many machine learning estimators: they might behave badly if the individual features do not more or less look like standard normally distributed data (e.g. Gaussian with 0 mean and unit variance).\n",
    "'''\n",
    "\n",
    "scaler = StandardScaler().fit(X) \n",
    "\n",
    "X_scaled = scaler.transform(X)\n",
    "\n",
    "X_scaled = pd.DataFrame(X_scaled)\n",
    "X_scaled.columns = column_names\n",
    "\n",
    "from sklearn.model_selection import train_test_split #like usual\n",
    "\n",
    "#SPLIT DATA INTO TRAIN AND TEST SET\n",
    "X_train, X_test, y_train, y_test = train_test_split(X, y,  #X_scaled\n",
    "                                                    test_size =0.30, #by default is 75%-25%\n",
    "                                                    #shuffle is set True by default,\n",
    "                                                    stratify=y,\n",
    "                                                    random_state= 123) #fix random seed for replicability\n",
    "\n",
    "print(X_train.shape)"
   ]
  },
  {
   "cell_type": "markdown",
   "id": "49b1a9e9fa5cd7c8",
   "metadata": {},
   "source": [
    "# Logistic Regression Model"
   ]
  },
  {
   "cell_type": "markdown",
   "id": "e3a5c10fa9bf5d8a",
   "metadata": {},
   "source": [
    "<div style=\"border: 2px solid darkblue; padding: 10px; background-color: #89D9F5;\">\n",
    " \n",
    "## **Exercise: Logistic Regression Model Selection and Coefficients Analysis**\n",
    "\n",
    "#### **Objective**\n",
    "In this exercise, you will:\n",
    "- Tune hyperparameters of **Logistic Regression** using **GridSearchCV**.\n",
    "- Evaluate model performance using **recall** as the primary metric.\n",
    "- Analyze **feature coefficients** to interpret the importance of each feature.\n",
    "\n",
    "---\n",
    "\n",
    "#### **Steps to Complete**\n",
    "\n",
    "### **1️⃣ Train and Optimize a Logistic Regression Model**\n",
    "1. Define a **Logistic Regression classifier**.\n",
    "2. Set up a **GridSearchCV** to tune hyperparameters:\n",
    "   - Regularization strength (**C**): `[0.01, 0.1, 1]`\n",
    "   - Penalty: `'l2'`\n",
    "   - Maximum iterations: `[50000, 10000]`\n",
    "3. Use **3-fold cross-validation** (`cv=3`) and optimize based on **recall**.\n",
    "\n",
    "\n",
    "---\n",
    "\n",
    "### **2️⃣ Evaluate Performance on the Test Set**\n",
    "- Retrieve the best model from GridSearch.\n",
    "- Predict on **both training and test sets**.\n",
    "- Calculate **F1-score** to evaluate performance.\n",
    "\n",
    "\n",
    "---\n",
    "\n",
    "### **3️⃣ Feature Importance: Analyzing Coefficients**\n",
    "- Retrieve model coefficients.\n",
    "- Zip feature names with their respective coefficients.\n",
    "- **Plot feature importance** using a bar plot.\n",
    "\n",
    "\n",
    "---\n",
    "\n",
    "### **4️⃣ Evaluate Model Performance with ROC Curve**\n",
    "- Compute **ROC Curve** and **AUC score**.\n",
    "- Plot **ROC Curve** to visualize model discrimination power.\n",
    "\n",
    "---\n",
    "\n",
    "### **Discussion Questions**\n",
    "1. **Why do we optimize recall instead of accuracy in this case?**\n",
    "2. **What does the sign of the coefficients tell us about the relationship between each feature and the target?**\n",
    "3. **How does regularization (`C` parameter) affect feature importance?**\n",
    "4. **What do you observe in the ROC Curve? Does the model have good discrimination power?** \n",
    "\n",
    "---"
   ]
  },
  {
   "cell_type": "code",
   "execution_count": null,
   "id": "6d303531-6d03-498f-8530-64dcf262be05",
   "metadata": {},
   "outputs": [],
   "source": []
  },
  {
   "cell_type": "raw",
   "id": "bdf5c8b9-e715-4292-9445-45189f0508ca",
   "metadata": {},
   "source": [
    "Fitting 3 folds for each of 6 candidates, totalling 18 fits\n",
    "Best score: 0.571685 using {'C': 0.1, 'max_iter': 50000, 'penalty': 'l2'}"
   ]
  },
  {
   "cell_type": "code",
   "execution_count": null,
   "id": "b97c2ba0-aed9-4966-9ce7-0a3c2edbed63",
   "metadata": {},
   "outputs": [],
   "source": []
  },
  {
   "cell_type": "raw",
   "id": "39cbe0d2-18ca-4fd6-b077-e89c191f9bd2",
   "metadata": {},
   "source": [
    "***RESULTS ON TRAIN SET***\n",
    "F1 Score:  0.6567164179104478\n",
    "--\n",
    "***RESULTS ON TEST SET***\n",
    "F1 Score:  0.6056338028169014"
   ]
  },
  {
   "cell_type": "code",
   "execution_count": null,
   "id": "18bc8acc-09f4-445f-ac1a-6b794d9a659c",
   "metadata": {},
   "outputs": [],
   "source": []
  },
  {
   "attachments": {
    "30f957d0-5c86-4ccd-8f11-b2da2878869b.png": {
     "image/png": "[encoded data removed]"
    }
   },
   "cell_type": "markdown",
   "id": "bb2fcc69-79b5-45ec-a581-4affa2621c8f",
   "metadata": {},
   "source": [
    "![features_importances_lr.png](attachment:30f957d0-5c86-4ccd-8f11-b2da2878869b.png)"
   ]
  },
  {
   "cell_type": "code",
   "execution_count": null,
   "id": "373f747f-4e9e-47a8-8003-49b5dfe90ec2",
   "metadata": {},
   "outputs": [],
   "source": []
  },
  {
   "cell_type": "raw",
   "id": "d08508d7-6541-4eaa-9e7f-e093cc7c419f",
   "metadata": {},
   "source": [
    "AUC Score: 0.85"
   ]
  },
  {
   "cell_type": "code",
   "execution_count": null,
   "id": "e4552f6a-6718-4553-842b-cf01e69133b0",
   "metadata": {},
   "outputs": [],
   "source": []
  }
 ],
 "metadata": {
  "kernelspec": {
   "display_name": "Python 3 (ipykernel)",
   "language": "python",
   "name": "python3"
  },
  "language_info": {
   "codemirror_mode": {
    "name": "ipython",
    "version": 3
   },
   "file_extension": ".py",
   "mimetype": "text/x-python",
   "name": "python",
   "nbconvert_exporter": "python",
   "pygments_lexer": "ipython3",
   "version": "3.12.7"
  }
 },
 "nbformat": 4,
 "nbformat_minor": 5
}
