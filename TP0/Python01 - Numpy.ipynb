{
 "cells": [
  {
   "cell_type": "markdown",
   "id": "9fba7adc2a91d700",
   "metadata": {},
   "source": [
    "# <span style=\"color:darkblue;\">[LDATS2350] - DATA MINING</span>\n",
    "\n",
    "### <span style=\"color:darkred;\">Python01 - Numpy library</span>\n",
    "\n",
    "**Prof. Robin Robin Van Oirbeek **  \n",
    "\n",
    "---\n",
    "\n",
    "**<span style=\"color:darkgreen;\">Guillaume Deside</span>** (<span style=\"color:gray;\">guillaume.deside@uclouvain.be</span>)  "
   ]
  },
  {
   "cell_type": "markdown",
   "id": "16518ba1-a631-4072-9043-a98cdd951069",
   "metadata": {},
   "source": [
    "### **NumPy: The Core Library for Scientific Computing in Python**\n",
    "\n",
    "**NumPy** (short for *Numerical Python*) is a foundational library in Python that provides support for efficient numerical computations and is widely used in data science, machine learning, and scientific research. At its core, it offers a **high-performance multidimensional array object** along with a suite of tools for manipulating these arrays.\n",
    "\n",
    "---\n",
    "\n",
    "### **Key Features of NumPy**\n",
    "1. **Efficient Multidimensional Arrays**:  \n",
    "   - NumPy provides the `ndarray` object, which allows storage and manipulation of data in multiple dimensions (1D, 2D, 3D, etc.) with superior performance compared to Python lists.  \n",
    "\n",
    "2. **Vectorized Operations**:  \n",
    "   - Operations are performed **over entire arrays** without requiring loops, enabling fast, clean, and efficient computations.\n",
    "\n",
    "3. **Numerical Computation**:  \n",
    "   - NumPy supports advanced mathematical operations like linear algebra, Fourier transforms, statistical functions, and more.\n",
    "\n",
    "4. **Performance**:  \n",
    "   - Written in C, NumPy is **highly optimized** for speed and significantly faster than Python's built-in data structures.\n",
    "\n",
    "---\n",
    "\n",
    "### **Why Use NumPy?**\n",
    "\n",
    "- **High Performance**:  \n",
    "  NumPy arrays are more memory-efficient and computationally faster than Python lists due to their fixed data type and compact structure.\n",
    "\n",
    "- **Easy Integration**:  \n",
    "  NumPy integrates seamlessly with libraries like Pandas, Scikit-learn, TensorFlow, and Matplotlib.\n",
    "\n",
    "- **Foundation for Scientific Libraries**:  \n",
    "  Many popular libraries in Python (like SciPy and Pandas) are built on top of NumPy.\n",
    "\n",
    "---\n",
    "\n",
    "### **Important Notes**\n",
    "- **Fixed Data Types**:  \n",
    "  NumPy arrays can only contain **values of the same data type**. This fixed type ensures efficiency but differs from Python lists, which can contain mixed data types.\n",
    "\n",
    "- **Array Operations vs Lists**:  \n",
    "  Operators like `+`, `*`, or `/` work differently in NumPy arrays compared to Python lists. For example:\n",
    "  - **With Lists**: `list1 + list2` concatenates two lists.\n",
    "  - **With NumPy Arrays**: `array1 + array2` performs element-wise addition.\n",
    "\n",
    "\n",
    "### **When to Use NumPy**\n",
    "- Large-scale numerical datasets that need efficient storage and operations.\n",
    "- Mathematical operations on multidimensional data (e.g., matrices and tensors).\n",
    "- Scenarios requiring integration with other scientific computing libraries or machine learning workflows.\n"
   ]
  },
  {
   "cell_type": "markdown",
   "id": "b025c34e-8c8b-412f-add5-8c0d46a85d6a",
   "metadata": {},
   "source": [
    "## Example of a numpy array\n",
    "\n",
    "\n",
    "\n",
    "In NumPy, an **array** is a central data structure that allows efficient storage and computation on multidimensional data. Below, we demonstrate how to create and manipulate NumPy arrays.\n",
    "\n"
   ]
  },
  {
   "cell_type": "code",
   "execution_count": 16,
   "id": "initial_id",
   "metadata": {},
   "outputs": [
    {
     "name": "stdout",
     "output_type": "stream",
     "text": [
      "[24 23 30 29 17 16 15]\n",
      "[24, 23, 30, 29, 17, 16, 15, 24, 23, 30, 29, 17, 16, 15]\n",
      "[48 46 60 58 34 32 30]\n",
      "[25 24 31 30 18 17 16]\n",
      "<class 'list'>\n",
      "<class 'numpy.ndarray'>\n"
     ]
    }
   ],
   "source": [
    "import numpy as np\n",
    "\n",
    "scores = [24, 23, 30, 29, 17, 16, 15]\n",
    "\n",
    "np_scores = np.array(scores)\n",
    "\n",
    "print(np_scores)  #or try *2 or whatever operation...\n",
    "\n",
    "print(scores*2)\n",
    "print(np_scores*2)\n",
    "\n",
    "#print(np_scores) \n",
    "print(np_scores+1)  \n",
    "\n",
    "print(type(scores))\n",
    "print(type(np_scores))"
   ]
  },
  {
   "cell_type": "code",
   "execution_count": 17,
   "id": "02b72a90-d70f-45da-9600-01fd34efb5e3",
   "metadata": {},
   "outputs": [
    {
     "data": {
      "text/plain": [
       "array([29, 17])"
      ]
     },
     "execution_count": 17,
     "metadata": {},
     "output_type": "execute_result"
    }
   ],
   "source": [
    "np_scores[3:-2]"
   ]
  },
  {
   "cell_type": "code",
   "execution_count": 18,
   "id": "a60176c8-9b4a-4b2f-ad23-d720516d35a4",
   "metadata": {},
   "outputs": [
    {
     "data": {
      "text/plain": [
       "array([ True,  True,  True,  True, False, False, False])"
      ]
     },
     "execution_count": 18,
     "metadata": {},
     "output_type": "execute_result"
    }
   ],
   "source": [
    "np_scores >= 18"
   ]
  },
  {
   "cell_type": "code",
   "execution_count": 19,
   "id": "9737f332-ace4-43ca-8231-29a9f131f0cd",
   "metadata": {},
   "outputs": [
    {
     "data": {
      "text/plain": [
       "array([24, 23, 30, 29])"
      ]
     },
     "execution_count": 19,
     "metadata": {},
     "output_type": "execute_result"
    }
   ],
   "source": [
    "np_scores[np_scores>=18]"
   ]
  },
  {
   "cell_type": "markdown",
   "id": "db0e0891-df4e-4004-b1b7-bc1999b59eb6",
   "metadata": {},
   "source": [
    "## 2D Numpy arrays\n",
    "\n",
    "\n",
    "In addition to one-dimensional arrays, NumPy supports **two-dimensional arrays**, which are commonly used to represent **matrices** or **tabular data**. A 2D array consists of rows and columns, making it ideal for applications such as:\n",
    "\n",
    "- Mathematical operations like matrix multiplication.\n",
    "- Representing datasets with multiple features.\n",
    "- Image processing, where images are stored as 2D arrays of pixel values.\n",
    "\n",
    "This section will cover how to create, manipulate, and perform operations on 2D NumPy arrays, helping you work with structured data efficiently.\n"
   ]
  },
  {
   "cell_type": "code",
   "execution_count": 21,
   "id": "da184181-3d4f-43ca-bda3-d7980640230d",
   "metadata": {},
   "outputs": [
    {
     "data": {
      "text/plain": [
       "(2, 7)"
      ]
     },
     "execution_count": 21,
     "metadata": {},
     "output_type": "execute_result"
    }
   ],
   "source": [
    "scores_1 = [24, 23, 30, 29, 17, 16, 15]\n",
    "scores_2 = [15, 26, 24, 25, 18, 30, 23]\n",
    "\n",
    "np_2d_scores = np.array([scores_1,scores_2])\n",
    "\n",
    "np_2d_scores.shape  "
   ]
  },
  {
   "cell_type": "code",
   "execution_count": 22,
   "id": "d841399b-f807-4e6e-9519-8753bd0f2ea6",
   "metadata": {},
   "outputs": [
    {
     "data": {
      "text/plain": [
       "30"
      ]
     },
     "execution_count": 22,
     "metadata": {},
     "output_type": "execute_result"
    }
   ],
   "source": [
    "np_2d_scores[0][2]\n",
    "np_2d_scores[0,2]"
   ]
  },
  {
   "cell_type": "code",
   "execution_count": 23,
   "id": "dce7588c-ad66-45da-a713-4c3f4a476f5e",
   "metadata": {},
   "outputs": [
    {
     "data": {
      "text/plain": [
       "array([[23, 30],\n",
       "       [26, 24]])"
      ]
     },
     "execution_count": 23,
     "metadata": {},
     "output_type": "execute_result"
    }
   ],
   "source": [
    "np_2d_scores[:,1:3] #all rows"
   ]
  },
  {
   "cell_type": "code",
   "execution_count": 24,
   "id": "7c965806-3306-49cc-af4e-d5ce77c1e646",
   "metadata": {},
   "outputs": [
    {
     "data": {
      "text/plain": [
       "array([15, 26, 24, 25, 18, 30, 23])"
      ]
     },
     "execution_count": 24,
     "metadata": {},
     "output_type": "execute_result"
    }
   ],
   "source": [
    "np_2d_scores[1,:] #all columns first row"
   ]
  },
  {
   "cell_type": "markdown",
   "id": "7c117381-d3d9-4274-8cd8-a9807a96ccc6",
   "metadata": {},
   "source": [
    "## Loop on a numpy array\n",
    "\n",
    "\n",
    "When working with NumPy arrays, **looping** over elements or rows is sometimes necessary, even though NumPy's vectorized operations are generally more efficient. Here's how looping behaves with 1D and 2D arrays, and how to handle nested structures like 2D arrays."
   ]
  },
  {
   "cell_type": "markdown",
   "id": "aae6a768-a753-4dd4-a5c2-8c1a0a4ea9d2",
   "metadata": {},
   "source": [
    "### **1. Looping Over a 1D Array**"
   ]
  },
  {
   "cell_type": "code",
   "execution_count": 27,
   "id": "af8b736c-0f7a-49ca-bd37-41ded0b41817",
   "metadata": {},
   "outputs": [
    {
     "name": "stdout",
     "output_type": "stream",
     "text": [
      "10\n",
      "20\n",
      "30\n",
      "40\n"
     ]
    }
   ],
   "source": [
    "# Example: 1D NumPy array\n",
    "scores = np.array([10, 20, 30, 40])\n",
    "\n",
    "for score in scores:\n",
    "    print(score)  # Prints each element in the 1D array"
   ]
  },
  {
   "cell_type": "markdown",
   "id": "3ea3b74f-4af9-41c8-9920-ead96b902a5b",
   "metadata": {},
   "source": [
    "### **2. Looping Over a 2D Array**\n",
    "\n",
    "Direct iteration over a 2D NumPy array (np_2d_scores) behaves differently compared to 1D arrays.\n",
    "Row-by-Row Iteration\n",
    "If you directly loop over a 2D array, it iterates over the rows, not the individual elements:"
   ]
  },
  {
   "cell_type": "code",
   "execution_count": 28,
   "id": "5e3f2e95-1af9-4519-82fd-4538244b17a9",
   "metadata": {},
   "outputs": [
    {
     "name": "stdout",
     "output_type": "stream",
     "text": [
      "[24 23 30 29 17 16 15]\n",
      "[15 26 24 25 18 30 23]\n"
     ]
    }
   ],
   "source": [
    "for score in np_2d_scores: #doesnt work if 2D\n",
    "    print(score)"
   ]
  },
  {
   "cell_type": "markdown",
   "id": "80fd0001-194f-4128-a301-ab7ad555c77a",
   "metadata": {},
   "source": [
    "To loop through individual elements in a 2D array, you need to use a nested loop or leverage `np.nditer()`:"
   ]
  },
  {
   "cell_type": "code",
   "execution_count": 29,
   "id": "e1c4e340-0273-48e6-a8f5-81f83ec941c0",
   "metadata": {},
   "outputs": [
    {
     "name": "stdout",
     "output_type": "stream",
     "text": [
      "24\n",
      "23\n",
      "30\n",
      "29\n",
      "17\n",
      "16\n",
      "15\n",
      "15\n",
      "26\n",
      "24\n",
      "25\n",
      "18\n",
      "30\n",
      "23\n"
     ]
    }
   ],
   "source": [
    "for val in np.nditer(np_2d_scores):\n",
    "    print(val) "
   ]
  },
  {
   "cell_type": "code",
   "execution_count": 30,
   "id": "54c21816-5904-4d35-b1a6-a6b67ab70c91",
   "metadata": {},
   "outputs": [
    {
     "name": "stdout",
     "output_type": "stream",
     "text": [
      "24\n",
      "23\n",
      "30\n",
      "29\n",
      "17\n",
      "16\n",
      "15\n",
      "15\n",
      "26\n",
      "24\n",
      "25\n",
      "18\n",
      "30\n",
      "23\n"
     ]
    }
   ],
   "source": [
    "for row in np_2d_scores:\n",
    "    for x in row:\n",
    "        print(x)"
   ]
  },
  {
   "cell_type": "markdown",
   "id": "3eab7ad8-0e29-4577-83a0-264ae2f686f9",
   "metadata": {},
   "source": [
    "## Exericse"
   ]
  },
  {
   "cell_type": "markdown",
   "id": "4ec0710a-ae73-4efe-9cca-4f335c1053bd",
   "metadata": {},
   "source": [
    "<div style=\"border: 2px solid darkblue; padding: 10px; background-color: #89D9F5;\">\n",
    "\n",
    "### **Exercise: Working with NumPy Arrays**\n",
    "\n",
    "**Task:**\n",
    "\n",
    "- **Create** a random array of length 100.  \n",
    "  *(Hint: use `np.random.rand(100)`)*\n",
    "\n",
    "- **Sort** your array.\n",
    "\n",
    "- **Compute** the **mean**, **median**, and **sample variance** of the array.\n",
    "\n",
    "\n",
    "\n",
    "</div>"
   ]
  },
  {
   "cell_type": "code",
   "execution_count": null,
   "id": "823dd284-8e5d-4309-8027-5c8265321975",
   "metadata": {},
   "outputs": [],
   "source": []
  },
  {
   "cell_type": "markdown",
   "id": "e76a6f9a-8399-433b-97b3-65562672eea1",
   "metadata": {},
   "source": [
    "### Solution"
   ]
  },
  {
   "cell_type": "code",
   "execution_count": 34,
   "id": "0830e289-9965-4cef-b07b-1d350a950936",
   "metadata": {},
   "outputs": [
    {
     "name": "stdout",
     "output_type": "stream",
     "text": [
      "Original Array:\n",
      "[0.43095639 0.32396466 0.48406012 0.44689359 0.83092119 0.84612499\n",
      " 0.71644489 0.81441378 0.40412578 0.50047544 0.23045233 0.49821645\n",
      " 0.47539404 0.25195161 0.51202798 0.07977045 0.15041631 0.04718655\n",
      " 0.89593196 0.90918937 0.84215439 0.30274484 0.16675647 0.16265006\n",
      " 0.51513919 0.33377953 0.93562502 0.30791154 0.37002742 0.19374875\n",
      " 0.92629693 0.81204471 0.36979264 0.48752335 0.86235152 0.44597167\n",
      " 0.05156159 0.64929207 0.15964168 0.73119284 0.63079934 0.13260202\n",
      " 0.2659712  0.9122396  0.88975573 0.76195988 0.81829801 0.96647694\n",
      " 0.96323577 0.74668841 0.55534658 0.95533698 0.82930465 0.57850232\n",
      " 0.01943188 0.48503132 0.83651132 0.79043093 0.58549271 0.0028428\n",
      " 0.18773581 0.96532707 0.08242148 0.61022036 0.84370054 0.44304735\n",
      " 0.20495544 0.33763894 0.94175568 0.31483616 0.59585744 0.8332324\n",
      " 0.70346269 0.17249132 0.38379778 0.5431434  0.57842513 0.74015237\n",
      " 0.65561938 0.22127278 0.92280371 0.83992566 0.25403811 0.85297394\n",
      " 0.74845129 0.73914421 0.78972429 0.14349095 0.4911965  0.68958403\n",
      " 0.90355739 0.87131792 0.78242964 0.91828204 0.33018556 0.18468757\n",
      " 0.40874582 0.77224176 0.52011149 0.39079882]\n",
      "\n",
      "Sorted Array:\n",
      "[0.0028428  0.01943188 0.04718655 0.05156159 0.07977045 0.08242148\n",
      " 0.13260202 0.14349095 0.15041631 0.15964168 0.16265006 0.16675647\n",
      " 0.17249132 0.18468757 0.18773581 0.19374875 0.20495544 0.22127278\n",
      " 0.23045233 0.25195161 0.25403811 0.2659712  0.30274484 0.30791154\n",
      " 0.31483616 0.32396466 0.33018556 0.33377953 0.33763894 0.36979264\n",
      " 0.37002742 0.38379778 0.39079882 0.40412578 0.40874582 0.43095639\n",
      " 0.44304735 0.44597167 0.44689359 0.47539404 0.48406012 0.48503132\n",
      " 0.48752335 0.4911965  0.49821645 0.50047544 0.51202798 0.51513919\n",
      " 0.52011149 0.5431434  0.55534658 0.57842513 0.57850232 0.58549271\n",
      " 0.59585744 0.61022036 0.63079934 0.64929207 0.65561938 0.68958403\n",
      " 0.70346269 0.71644489 0.73119284 0.73914421 0.74015237 0.74668841\n",
      " 0.74845129 0.76195988 0.77224176 0.78242964 0.78972429 0.79043093\n",
      " 0.81204471 0.81441378 0.81829801 0.82930465 0.83092119 0.8332324\n",
      " 0.83651132 0.83992566 0.84215439 0.84370054 0.84612499 0.85297394\n",
      " 0.86235152 0.87131792 0.88975573 0.89593196 0.90355739 0.90918937\n",
      " 0.9122396  0.91828204 0.92280371 0.92629693 0.93562502 0.94175568\n",
      " 0.95533698 0.96323577 0.96532707 0.96647694]\n",
      "\n",
      "Mean: 0.5511416677339903\n",
      "Median: 0.5492449920606184\n",
      "Sample Variance: 0.08012298921849331\n"
     ]
    }
   ],
   "source": [
    "# Create a random array of length 100\n",
    "random_array = np.random.rand(100)\n",
    "print(\"Original Array:\")\n",
    "print(random_array)\n",
    "\n",
    "# Sort the array\n",
    "sorted_array = np.sort(random_array)\n",
    "print(\"\\nSorted Array:\")\n",
    "print(sorted_array)\n",
    "\n",
    "# Compute the mean of the array\n",
    "mean_value = np.mean(random_array)\n",
    "print(\"\\nMean:\", mean_value)\n",
    "\n",
    "# Compute the median of the array\n",
    "median_value = np.median(random_array)\n",
    "print(\"Median:\", median_value)\n",
    "\n",
    "# Compute the sample variance of the array\n",
    "# Note: np.var() by default computes the population variance.\n",
    "# To compute the sample variance, use ddof=1.\n",
    "sample_variance = np.var(random_array, ddof=1)\n",
    "print(\"Sample Variance:\", sample_variance)\n"
   ]
  },
  {
   "cell_type": "code",
   "execution_count": null,
   "id": "72863af6-e87d-4842-9ec1-c70525583f7e",
   "metadata": {},
   "outputs": [],
   "source": []
  }
 ],
 "metadata": {
  "kernelspec": {
   "display_name": "Python 3 (ipykernel)",
   "language": "python",
   "name": "python3"
  },
  "language_info": {
   "codemirror_mode": {
    "name": "ipython",
    "version": 3
   },
   "file_extension": ".py",
   "mimetype": "text/x-python",
   "name": "python",
   "nbconvert_exporter": "python",
   "pygments_lexer": "ipython3",
   "version": "3.12.7"
  }
 },
 "nbformat": 4,
 "nbformat_minor": 5
}
