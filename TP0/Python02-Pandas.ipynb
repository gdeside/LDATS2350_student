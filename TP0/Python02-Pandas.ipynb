{
 "cells": [
  {
   "cell_type": "markdown",
   "id": "86ef0cbc-c320-442e-af5c-f3ec739adcbb",
   "metadata": {},
   "source": [
    "# <span style=\"color:darkblue;\">[LDATS2350] - DATA MINING</span>\n",
    "\n",
    "### <span style=\"color:darkred;\">Python03 - Pandas</span>\n",
    "\n",
    "**Prof. Robin Van Oirbeek**  \n",
    "\n",
    "<br/>\n",
    "\n",
    "**<span style=\"color:darkgreen;\">Guillaume Deside</span>** (<span style=\"color:gray;\">guillaume.deside@uclouvain.be</span>)\n",
    "\n",
    "---\n",
    "\n",
    "## **Introduction to Pandas**\n",
    "\n",
    "Pandas is a powerful **Python library** designed for **data manipulation and analysis**. It provides **high-performance data structures** and functions that make working with structured data intuitive and efficient. Pandas is widely used in **data science, data mining, machine learning, and financial analysis**.\n",
    "\n",
    "### **Why Pandas?**\n",
    "- **Data Handling**: Works seamlessly with structured data formats such as CSV, JSON, SQL databases, and Excel.\n",
    "- **Flexible Data Structures**: Offers **Series** (1D) and **DataFrames** (2D tabular data), similar to spreadsheets or SQL tables.\n",
    "- **Easy Data Cleaning & Transformation**: Missing data handling, filtering, grouping, and reshaping.\n",
    "- **Powerful Merging & Joining**: Combines multiple datasets easily.\n",
    "- **Efficient Performance**: Built on top of NumPy, making operations faster than traditional Python loops.\n",
    "\n",
    "### **Main Functionalities**\n",
    "- **Reading and Writing Data**: Import/export data from CSV, Excel, JSON, SQL, and more.\n",
    "- **Data Selection & Manipulation**: Extract, filter, and transform data efficiently.\n",
    "- **Handling Missing Data**: Fill, drop, or interpolate missing values.\n",
    "- **Grouping & Aggregation**: Summarize data using group operations.\n",
    "- **Merging & Joining**: Combine multiple datasets based on common keys.\n",
    "- **Reshaping Data**: Pivoting, stacking, and unstacking data for analysis.\n",
    "\n",
    "By mastering Pandas, you will develop essential **data processing skills** that are crucial for **data mining, analytics, and machine learning workflows**.\n"
   ]
  },
  {
   "cell_type": "markdown",
   "id": "bad6284e-c40d-4f22-abfa-279765d1feaf",
   "metadata": {},
   "source": [
    "# DataFrame\n",
    "\n",
    "A **Pandas DataFrame** is a two-dimensional, size-mutable, and potentially heterogeneous tabular data structure with labeled axes (rows and columns). In other words, a DataFrame is like a table in a relational database or an Excel spreadsheet, where data is organized in rows and columns, and each column can have a different data type.\n",
    "\n",
    "---\n",
    "\n",
    "### Key Features of a DataFrame\n",
    "\n",
    "- **Two-dimensional**: Data is organized in rows and columns.\n",
    "- **Size-mutable**: You can easily add or remove rows and columns.\n",
    "- **Heterogeneous**: Different columns can store different data types (e.g., integers, floats, strings).\n",
    "- **Labeled axes**: Both rows and columns have labels (indices for rows and names for columns), which make data selection and manipulation intuitive.\n",
    "\n",
    "---\n",
    "\n",
    "### Creating a DataFrame\n",
    "\n",
    "DataFrames can be created from a variety of data sources, such as:\n",
    "- Dictionaries of lists or arrays\n",
    "- CSV or Excel files\n",
    "- Other DataFrame objects\n",
    "- Databases\n",
    "\n",
    "### Basic Operations with DataFrames\n",
    "\t•\tViewing Data:\n",
    "\t◦\tUse df.head() to view the first few rows.\n",
    "\t◦\tUse df.tail() to view the last few rows.\n",
    "\t•\tSelecting Columns:\n",
    "\t◦\tRetrieve a column: df['Name'].\n",
    "\t•\tFiltering Rows:\n",
    "\t◦\tFilter based on a condition: df[df['Age'] > 30] returns rows where the age is greater than 30.\n",
    "\t•\tAdding or Removing Columns:\n",
    "\t◦\tAdd a column: df['Salary'] = [50000, 60000, 70000, 80000].\n",
    "\t◦\tRemove a column: df.drop('City', axis=1, inplace=True).\n",
    "\t•\tDescriptive Statistics:\n",
    "\t◦\tUse df.describe() to view summary statistics for numeric columns.\n",
    "\n",
    "### Why Use DataFrames in Data Mining?\n",
    "DataFrames are essential in data mining because they provide an intuitive and efficient way to:\n",
    "\n",
    "-\tStore and organize large datasets.\n",
    "-\tClean and preprocess data (e.g., handling missing values, filtering, and aggregating).\n",
    "-\tAnalyze data by performing descriptive statistics and exploratory data analysis.\n",
    "-\tIntegrate with other libraries: They work seamlessly with libraries like NumPy, Matplotlib, and scikit-learn for scientific computing, visualization, and machine learning.\n",
    "\n",
    "DataFrames allow you to focus on data analysis and modeling without worrying about low-level data handling, making them a powerful tool in any data mining project.\n"
   ]
  },
  {
   "cell_type": "markdown",
   "id": "38dfc64f-3cff-4b88-be43-6a6eb0aa4155",
   "metadata": {},
   "source": [
    "## **Creating a Simple Pandas DataFrame**\n",
    "\n",
    "In this example, we demonstrate how to create a **Pandas DataFrame** from a Python dictionary. DataFrames are one of the most commonly used data structures in Pandas, providing an efficient way to store and manipulate structured data.\n",
    "\n"
   ]
  },
  {
   "cell_type": "code",
   "execution_count": null,
   "id": "c9cffc78-39f5-4f8e-a7d9-0b9215ed5f2e",
   "metadata": {},
   "outputs": [],
   "source": [
    "import pandas as pd\n",
    "# Define data as a dictionary where keys are column names\n",
    "data = {\n",
    "    'Name': ['Alice', 'Bob', 'Charlie', 'David'],\n",
    "    'Age': [25, 30, 35, 40],\n",
    "    'City': ['New York', 'Los Angeles', 'Chicago', 'Houston']\n",
    "}\n",
    "\n",
    "# Create the DataFrame\n",
    "df = pd.DataFrame(data)\n",
    "\n",
    "# Display the DataFrame\n",
    "print(df)"
   ]
  },
  {
   "cell_type": "markdown",
   "id": "4f7342fe-f029-421a-a0e4-fbf240e3bf40",
   "metadata": {},
   "source": [
    "# Importing a dataframe\n",
    "\n",
    "**Common Parameters of `read_csv()`**\n",
    "\n",
    "| **Parameter**      | **Description**                                  | **Example**                        |\n",
    "|--------------------|------------------------------------------------|------------------------------------|\n",
    "| `filepath_or_buffer` | Path to the CSV file (local or URL)           | `\"Data/myfile.csv\"`               |\n",
    "| `sep`             | Specifies the separator (default is `,`)       | `sep=\";\"` (for semicolon-separated files) |\n",
    "| `header`          | Row number to use as column names (default = 0) | `header=1` (use the second row as headers) |\n",
    "| `names`           | Manually specify column names                   | `names=['A', 'B', 'C']`           |\n",
    "| `index_col`       | Set a specific column as the index              | `index_col=\"ID\"`                  |\n",
    "| `usecols`         | Load only specific columns                      | `usecols=['Name', 'Age']`         |\n",
    "| `dtype`           | Specify data types for columns                  | `dtype={'Age': int}`              |\n",
    "| `na_values`       | Define custom missing values                    | `na_values=[\"?\", \"N/A\", \"NaN\"]`   |\n",
    "| `skiprows`        | Skip a number of rows at the beginning          | `skiprows=3`                      |\n"
   ]
  },
  {
   "cell_type": "code",
   "execution_count": null,
   "id": "09742645-2d8e-485f-a677-c320212aa826",
   "metadata": {},
   "outputs": [],
   "source": [
    "df = pd.read_csv(filepath_or_buffer = \"../Data/randomrestaurants.csv\", sep = \";\") #try to set: index_col = 0\n",
    "df"
   ]
  },
  {
   "cell_type": "markdown",
   "id": "694c9e6559644936",
   "metadata": {},
   "source": [
    "# Index and select data\n",
    "\n",
    "When working with **Pandas DataFrames**, selecting specific **rows**, **columns**, or **subsets** of data is crucial. Pandas provides multiple ways to achieve this. The three most commonly used methods for indexing and selecting data are:\n",
    "\n",
    "1. **Using Square Brackets (`[]`)**\n",
    "2. **Using `.loc[]` (Label-based selection)**\n",
    "3. **Using `.iloc[]` (Integer-based selection)**\n",
    "\n",
    "---\n",
    "\n",
    "### **1. Using Square Brackets `[]`**\n",
    "The simplest way to select data from a DataFrame is by using **square brackets**. This method can be used for both **column selection** and **row slicing**.\n",
    "\n",
    "✅ Good for: Quick column selection and simple row slicing.\n",
    "\n",
    "❌ Limitations: Cannot select rows by label names (use .loc[] for that).\n",
    "\n",
    "\n"
   ]
  },
  {
   "cell_type": "code",
   "execution_count": null,
   "id": "da26cd75185199e0",
   "metadata": {},
   "outputs": [],
   "source": [
    "restaurants = pd.read_csv(\"../Data/randomrestaurants.csv\", sep = \";\",index_col=0)\n",
    "\n",
    "restaurants"
   ]
  },
  {
   "cell_type": "code",
   "execution_count": null,
   "id": "1bba10b393e45970",
   "metadata": {},
   "outputs": [],
   "source": [
    "restaurants[\"Location\"]"
   ]
  },
  {
   "cell_type": "code",
   "execution_count": null,
   "id": "9a2de0fbbb30ef17",
   "metadata": {},
   "outputs": [],
   "source": [
    "restaurants[[\"Location\",\"Score\"]] #select columns"
   ]
  },
  {
   "cell_type": "code",
   "execution_count": null,
   "id": "47222a93562db616",
   "metadata": {},
   "outputs": [],
   "source": [
    "#select rows\n",
    "restaurants[1:4] # three rows in position [1,2,3]"
   ]
  },
  {
   "cell_type": "markdown",
   "id": "f73a8ea1567fb8ea",
   "metadata": {},
   "source": [
    "### **2. Selecting Data with .loc[] (Label-Based Selection)**\n",
    "The `.loc[]` method is used when selecting data by label (row names or column names). It supports:\n",
    "\n",
    "Selecting specific rows by label.\n",
    "Selecting specific columns by column name.\n",
    "Slicing based on row labels.\n",
    "\n",
    "✅ Good for: Selecting data based on row labels and column names.\n",
    "\n",
    "❌ Limitations: Requires row labels; not suited for numeric index selection (use .iloc[] instead)."
   ]
  },
  {
   "cell_type": "code",
   "execution_count": null,
   "id": "fa2dc64e8ff1e723",
   "metadata": {},
   "outputs": [],
   "source": [
    "#WHAT IF i want to select columns and rows as 2D numpy array\n",
    "\n",
    "#you can use:\n",
    "#1) loc (based on labels)\n",
    "#2) iloc (position based)\n",
    "\n",
    "restaurants.loc[\"RS\"]#as pandas series"
   ]
  },
  {
   "cell_type": "markdown",
   "id": "836df3fc0608b084",
   "metadata": {},
   "source": [
    "### **3. Selecting Data with .iloc[] (Integer-Based Selection)**\n",
    "\n",
    "The `.iloc[]` method is used for integer-based selection, where rows and columns are indexed numerically.\n",
    "\n",
    "✅ Good for: Selecting data based on numeric row positions.\n",
    "\n",
    "❌ Limitations: Cannot use labels; relies only on integer indices."
   ]
  },
  {
   "cell_type": "code",
   "execution_count": null,
   "id": "7de104b7099f0f5f",
   "metadata": {},
   "outputs": [],
   "source": [
    "restaurants.iloc[:5,[1,2]]"
   ]
  },
  {
   "cell_type": "markdown",
   "id": "40cead01177225d1",
   "metadata": {},
   "source": [
    "<div style=\"border: 2px solid darkblue; padding: 10px; background-color: #89D9F5;\">\n",
    "\n",
    "### **Exercise - Differences Between `.loc[]` and `.iloc[]` for Numeric Indices**\n",
    "\n",
    "#### **Objective**\n",
    "In this exercise, you will practice using **`.loc[]`** (label-based indexing) and **`.iloc[]`** (integer-based indexing) to select specific rows and columns from a **restaurant dataset**.\n",
    "\n",
    "#### **Tasks**\n",
    "1. **Select the first three rows** using both `.loc[]` and `.iloc[]`.\n",
    "2. **Select the first and last columns** using both `.loc[]` and `.iloc[]`.\n",
    "3. **Compare** the outputs and observe any differences.\n",
    "\n",
    "#### **Hints**\n",
    "- Use `df.loc[start:end, column_names]` for label-based selection.\n",
    "- Use `df.iloc[start:end, column_positions]` for position-based selection.\n",
    "- The first column can be accessed using index **0** and the last column using **-1** with `.iloc[]`.\n",
    "\n",
    "</div>\n",
    "\n"
   ]
  },
  {
   "cell_type": "code",
   "execution_count": null,
   "id": "2c7ca3c1-ecc3-455a-a9f7-ed6cf3194b43",
   "metadata": {},
   "outputs": [],
   "source": []
  },
  {
   "cell_type": "markdown",
   "id": "c47b572c-1f26-4c20-923a-20dac0fe22fd",
   "metadata": {},
   "source": [
    "### Solution"
   ]
  },
  {
   "cell_type": "code",
   "execution_count": 1,
   "id": "9c67c476bcc6cd5b",
   "metadata": {
    "ExecuteTime": {
     "end_time": "2025-02-06T11:09:40.658029Z",
     "start_time": "2025-02-06T11:09:35.644369Z"
    }
   },
   "outputs": [
    {
     "name": "stdout",
     "output_type": "stream",
     "text": [
      "Original Restaurant DataFrame:\n",
      "            Restaurant     Location  Score\n",
      "0  HABITAT COFFEE SHOP        Milan     95\n",
      "1             REILLY'S  Los Angeles     91\n",
      "2       STREET CHURROS     New York     90\n",
      "3  RIO GENTLEMANS CLUB         Rome     96\n",
      "4    LE PAIN QUOTIDIEN       Berlin     89\n",
      "5    TRINITI ECHO PARK       Madrid     99\n",
      "6  MARCE'S MINI MARKET    Cape Town     93\n",
      "7               POLLEN       Ottawa     94\n",
      "8       THE SPOT GRILL      Toronto     97\n",
      "\n",
      "Selecting first 3 rows using loc:\n",
      "            Restaurant     Location  Score\n",
      "0  HABITAT COFFEE SHOP        Milan     95\n",
      "1             REILLY'S  Los Angeles     91\n",
      "2       STREET CHURROS     New York     90\n",
      "\n",
      "Selecting first 3 rows using iloc:\n",
      "            Restaurant     Location  Score\n",
      "0  HABITAT COFFEE SHOP        Milan     95\n",
      "1             REILLY'S  Los Angeles     91\n",
      "2       STREET CHURROS     New York     90\n",
      "\n",
      "Selecting first and last columns using loc:\n",
      "            Restaurant  Score\n",
      "0  HABITAT COFFEE SHOP     95\n",
      "1             REILLY'S     91\n",
      "2       STREET CHURROS     90\n",
      "3  RIO GENTLEMANS CLUB     96\n",
      "4    LE PAIN QUOTIDIEN     89\n",
      "5    TRINITI ECHO PARK     99\n",
      "6  MARCE'S MINI MARKET     93\n",
      "7               POLLEN     94\n",
      "8       THE SPOT GRILL     97\n",
      "\n",
      "Selecting first and last columns using iloc:\n",
      "            Restaurant  Score\n",
      "0  HABITAT COFFEE SHOP     95\n",
      "1             REILLY'S     91\n",
      "2       STREET CHURROS     90\n",
      "3  RIO GENTLEMANS CLUB     96\n",
      "4    LE PAIN QUOTIDIEN     89\n",
      "5    TRINITI ECHO PARK     99\n",
      "6  MARCE'S MINI MARKET     93\n",
      "7               POLLEN     94\n",
      "8       THE SPOT GRILL     97\n"
     ]
    }
   ],
   "source": [
    "import pandas as pd\n",
    "\n",
    "restaurants = pd.read_csv(\"../Data/randomrestaurants.csv\", sep = \";\",index_col=0)\n",
    "\n",
    "# Reset index to ensure numeric indices are used\n",
    "restaurants.reset_index(drop=True, inplace=True)\n",
    "\n",
    "print(\"Original Restaurant DataFrame:\")\n",
    "print(restaurants)\n",
    "\n",
    "# --- Task 1: Select the first 3 rows ---\n",
    "print(\"\\nSelecting first 3 rows using loc:\")\n",
    "print(restaurants.loc[0:2])  # Using labels (inclusive end)\n",
    "\n",
    "print(\"\\nSelecting first 3 rows using iloc:\")\n",
    "print(restaurants.iloc[0:3])  # Using integer positions (exclusive end)\n",
    "\n",
    "# --- Task 2: Select first and last columns ---\n",
    "print(\"\\nSelecting first and last columns using loc:\")\n",
    "print(restaurants.loc[:, [\"Restaurant\", \"Score\"]])  # Using column names\n",
    "\n",
    "print(\"\\nSelecting first and last columns using iloc:\")\n",
    "print(restaurants.iloc[:, [0, -1]])  # Using column index positions"
   ]
  },
  {
   "cell_type": "markdown",
   "id": "955830038a3e391e",
   "metadata": {},
   "source": [
    "# Concatenating dataset"
   ]
  },
  {
   "cell_type": "code",
   "execution_count": 2,
   "id": "cf5c2ef5d741adf9",
   "metadata": {
    "ExecuteTime": {
     "end_time": "2025-02-06T11:10:51.160978Z",
     "start_time": "2025-02-06T11:10:51.155710Z"
    }
   },
   "outputs": [],
   "source": [
    "restaurants = pd.read_csv(\"../Data/randomrestaurants.csv\", sep = \";\",index_col=0)\n",
    "r1 = restaurants.iloc[:5]\n",
    "r2 = restaurants.iloc[5:]\n"
   ]
  },
  {
   "cell_type": "markdown",
   "id": "13307c5db8c7cc0d",
   "metadata": {},
   "source": [
    "<div style=\"border: 2px solid darkblue; padding: 10px; background-color: #89D9F5;\">\n",
    "\n",
    "### **Exercise - Concatenating DataFrames with `pd.concat()`**\n",
    "\n",
    "\n",
    "Combine r1 and r2 using `pd.concat()`. This method is useful for **stacking datasets vertically (row-wise) or horizontally (column-wise).**\n",
    "\n",
    "</div>\n"
   ]
  },
  {
   "cell_type": "code",
   "execution_count": null,
   "id": "1fcfe030-d26b-4c01-88a5-e40ef27cdfba",
   "metadata": {},
   "outputs": [],
   "source": []
  },
  {
   "cell_type": "markdown",
   "id": "76365e1b-4e3b-4c8c-b3c7-61ffd9554d11",
   "metadata": {},
   "source": [
    "### Solution"
   ]
  },
  {
   "cell_type": "code",
   "execution_count": null,
   "id": "caa7bf09c254bc62",
   "metadata": {},
   "outputs": [],
   "source": [
    "r3 = pd.concat([r1,r2])"
   ]
  },
  {
   "cell_type": "markdown",
   "id": "3081efd91b27653e",
   "metadata": {},
   "source": [
    "# Looping on DataFrames"
   ]
  },
  {
   "cell_type": "code",
   "execution_count": null,
   "id": "5f60eafdf298045c",
   "metadata": {},
   "outputs": [],
   "source": [
    "for i in restaurants:\n",
    "    print(i) "
   ]
  },
  {
   "cell_type": "code",
   "execution_count": null,
   "id": "71245a3557b716ce",
   "metadata": {},
   "outputs": [],
   "source": [
    "for label, row in restaurants.iterrows():\n",
    "    print(label,\":\",row)"
   ]
  },
  {
   "cell_type": "code",
   "execution_count": null,
   "id": "88739623d6aa6c8d",
   "metadata": {},
   "outputs": [],
   "source": [
    "for label, row in restaurants.iterrows():\n",
    "    print(label+\": \"+row[\"Restaurant\"])#+\" \"+row[(\"Score\")])"
   ]
  },
  {
   "cell_type": "markdown",
   "id": "f03e097e5e751312",
   "metadata": {},
   "source": [
    "# Column manipulation"
   ]
  },
  {
   "cell_type": "code",
   "execution_count": 3,
   "id": "3deae7df45ae5ada",
   "metadata": {
    "ExecuteTime": {
     "end_time": "2025-02-06T11:19:06.073237Z",
     "start_time": "2025-02-06T11:19:06.049897Z"
    }
   },
   "outputs": [
    {
     "data": {
      "text/html": [
       "<div>\n",
       "<style scoped>\n",
       "    .dataframe tbody tr th:only-of-type {\n",
       "        vertical-align: middle;\n",
       "    }\n",
       "\n",
       "    .dataframe tbody tr th {\n",
       "        vertical-align: top;\n",
       "    }\n",
       "\n",
       "    .dataframe thead th {\n",
       "        text-align: right;\n",
       "    }\n",
       "</style>\n",
       "<table border=\"1\" class=\"dataframe\">\n",
       "  <thead>\n",
       "    <tr style=\"text-align: right;\">\n",
       "      <th></th>\n",
       "      <th>Restaurant</th>\n",
       "      <th>Location</th>\n",
       "      <th>Score</th>\n",
       "      <th>name_len</th>\n",
       "    </tr>\n",
       "  </thead>\n",
       "  <tbody>\n",
       "    <tr>\n",
       "      <th>HCS</th>\n",
       "      <td>HABITAT COFFEE SHOP</td>\n",
       "      <td>Milan</td>\n",
       "      <td>95</td>\n",
       "      <td>19.0</td>\n",
       "    </tr>\n",
       "    <tr>\n",
       "      <th>RS</th>\n",
       "      <td>REILLY'S</td>\n",
       "      <td>Los Angeles</td>\n",
       "      <td>91</td>\n",
       "      <td>8.0</td>\n",
       "    </tr>\n",
       "    <tr>\n",
       "      <th>SC</th>\n",
       "      <td>STREET CHURROS</td>\n",
       "      <td>New York</td>\n",
       "      <td>90</td>\n",
       "      <td>14.0</td>\n",
       "    </tr>\n",
       "    <tr>\n",
       "      <th>RGC</th>\n",
       "      <td>RIO GENTLEMANS CLUB</td>\n",
       "      <td>Rome</td>\n",
       "      <td>96</td>\n",
       "      <td>19.0</td>\n",
       "    </tr>\n",
       "    <tr>\n",
       "      <th>LPQ</th>\n",
       "      <td>LE PAIN QUOTIDIEN</td>\n",
       "      <td>Berlin</td>\n",
       "      <td>89</td>\n",
       "      <td>17.0</td>\n",
       "    </tr>\n",
       "    <tr>\n",
       "      <th>TEP</th>\n",
       "      <td>TRINITI ECHO PARK</td>\n",
       "      <td>Madrid</td>\n",
       "      <td>99</td>\n",
       "      <td>17.0</td>\n",
       "    </tr>\n",
       "    <tr>\n",
       "      <th>MMM</th>\n",
       "      <td>MARCE'S MINI MARKET</td>\n",
       "      <td>Cape Town</td>\n",
       "      <td>93</td>\n",
       "      <td>19.0</td>\n",
       "    </tr>\n",
       "    <tr>\n",
       "      <th>P</th>\n",
       "      <td>POLLEN</td>\n",
       "      <td>Ottawa</td>\n",
       "      <td>94</td>\n",
       "      <td>6.0</td>\n",
       "    </tr>\n",
       "    <tr>\n",
       "      <th>TSG</th>\n",
       "      <td>THE SPOT GRILL</td>\n",
       "      <td>Toronto</td>\n",
       "      <td>97</td>\n",
       "      <td>14.0</td>\n",
       "    </tr>\n",
       "  </tbody>\n",
       "</table>\n",
       "</div>"
      ],
      "text/plain": [
       "              Restaurant     Location  Score  name_len\n",
       "HCS  HABITAT COFFEE SHOP        Milan     95      19.0\n",
       "RS              REILLY'S  Los Angeles     91       8.0\n",
       "SC        STREET CHURROS     New York     90      14.0\n",
       "RGC  RIO GENTLEMANS CLUB         Rome     96      19.0\n",
       "LPQ    LE PAIN QUOTIDIEN       Berlin     89      17.0\n",
       "TEP    TRINITI ECHO PARK       Madrid     99      17.0\n",
       "MMM  MARCE'S MINI MARKET    Cape Town     93      19.0\n",
       "P                 POLLEN       Ottawa     94       6.0\n",
       "TSG       THE SPOT GRILL      Toronto     97      14.0"
      ]
     },
     "execution_count": 3,
     "metadata": {},
     "output_type": "execute_result"
    }
   ],
   "source": [
    "for label, row in restaurants.iterrows():\n",
    "    restaurants.loc[label,\"name_len\"] = int(len(row[\"Restaurant\"]))\n",
    "\n",
    "restaurants"
   ]
  },
  {
   "cell_type": "code",
   "execution_count": null,
   "id": "a2b13dcf65e2f6d4",
   "metadata": {},
   "outputs": [],
   "source": [
    "restaurants[\"name_len2\"] = restaurants[\"Restaurant\"].apply(len)\n",
    "\n",
    "restaurants"
   ]
  },
  {
   "cell_type": "code",
   "execution_count": null,
   "id": "95062b0feeae2703",
   "metadata": {},
   "outputs": [],
   "source": [
    "def rest_class(score):\n",
    "    if score>95:\n",
    "        return \"A\"\n",
    "    return \"B\"\n",
    "\n",
    "\n",
    "# using rest_class function\n",
    "restaurants[\"class1\"] = restaurants[\"Score\"].apply(rest_class)\n",
    "\n",
    "restaurants"
   ]
  },
  {
   "cell_type": "markdown",
   "id": "1aba5351c4c9c75e",
   "metadata": {},
   "source": [
    "# MERGING"
   ]
  },
  {
   "cell_type": "code",
   "execution_count": null,
   "id": "c18e91758d16660b",
   "metadata": {},
   "outputs": [],
   "source": [
    "restaurants = pd.read_csv(\"../Data/randomrestaurants.csv\", sep = \";\",index_col=0)\n",
    "restaurants2 = pd.read_csv(\"../Data/randomrestaurants_2.csv\", sep = \";\",index_col=0) # Load a different source\n",
    "\n",
    "pd.merge(restaurants,restaurants2 ,left_index=True,right_index=True)  "
   ]
  },
  {
   "cell_type": "code",
   "execution_count": null,
   "id": "7f9b844634aacd4d",
   "metadata": {},
   "outputs": [],
   "source": [
    "pd.merge(restaurants,restaurants2,left_on=\"Restaurant\",right_on=\"Restaurant\" )"
   ]
  },
  {
   "cell_type": "code",
   "execution_count": null,
   "id": "95e97b6febfb35f2",
   "metadata": {},
   "outputs": [],
   "source": [
    "pd.merge(restaurants,restaurants2,left_on=\"Restaurant\",right_on=\"Restaurant\", how='outer' ) \n",
    "# Let's try how ='outer', how= 'left', how = 'right' "
   ]
  },
  {
   "cell_type": "markdown",
   "id": "68ee9b63974bc869",
   "metadata": {},
   "source": [
    "![Join](join.jpg)"
   ]
  },
  {
   "cell_type": "markdown",
   "id": "2dd8651139426912",
   "metadata": {},
   "source": [
    "## 🌿 **Try It Yourself: Working with the Iris Dataset**  \n",
    "\n",
    "In this exercise, you will **import, manipulate, and analyze** the famous **Iris dataset** using Pandas.\n",
    "\n",
    "---\n",
    "\n",
    "### **📝 Instructions**\n",
    "\n",
    "1️⃣ **Import the dataset** `iris` as a Pandas DataFrame.  \n",
    "2️⃣ **Assign column names**:  \n",
    "   - `sepal length`, `sepal width`, `petal length`, `petal width`, and `type`.  \n",
    "3️⃣ **Create a new column** `ratio_length`:  \n",
    "   - Compute the **ratio** between **sepal length** and **petal length** (`sepal_length / petal_length`).  \n",
    "4️⃣ **Add a new column** `target`:  \n",
    "   - Set the value to **1** if the flower type is **\"setosa\"**, otherwise set it to **0**.  \n",
    "\n",
    "---\n"
   ]
  },
  {
   "cell_type": "code",
   "execution_count": null,
   "id": "3765434511374ad7",
   "metadata": {},
   "outputs": [],
   "source": []
  }
 ],
 "metadata": {
  "kernelspec": {
   "display_name": "Python 3 (ipykernel)",
   "language": "python",
   "name": "python3"
  },
  "language_info": {
   "codemirror_mode": {
    "name": "ipython",
    "version": 3
   },
   "file_extension": ".py",
   "mimetype": "text/x-python",
   "name": "python",
   "nbconvert_exporter": "python",
   "pygments_lexer": "ipython3",
   "version": "3.12.7"
  }
 },
 "nbformat": 4,
 "nbformat_minor": 5
}
