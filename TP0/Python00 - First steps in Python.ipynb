{
 "cells": [
  {
   "cell_type": "markdown",
   "id": "2dae370bec75a4",
   "metadata": {},
   "source": [
    "# <span style=\"color:darkblue;\">[LDATS2350] - DATA MINING</span>\n",
    "\n",
    "### <span style=\"color:darkred;\">Python00 - First Steps in Python</span>\n",
    "\n",
    "**Prof. Robin Robin Van Oirbeek **  \n",
    "\n",
    "---\n",
    "\n",
    "**<span style=\"color:darkgreen;\">Guillaume Deside</span>** (<span style=\"color:gray;\">guillaume.deside@uclouvain.be</span>)  "
   ]
  },
  {
   "cell_type": "markdown",
   "id": "7d5529f7b7043525",
   "metadata": {},
   "source": [
    "# 1. Introduction to Python\n",
    "\n",
    "**Python** is a high-level programming language created by **Guido van Rossum** (a Dutch programmer) and first released in **1991**. Over time, Python has evolved into one of the most popular languages for various applications, including **data mining** and **machine learning**.\n",
    "\n",
    "---\n",
    "\n",
    "## Why Python 3?\n",
    "\n",
    "- **Two main versions**: Python 2 and Python 3.  \n",
    "- Python 3.0 (released in **December 2008**) introduced significant but **non–backward compatible changes**.  \n",
    "- **Python 2 End of Life**: Officially reached on **January 1, 2020**, meaning no further updates or maintenance.  \n",
    "- **Recommendation**: Always use a recent **Python 3** release for new projects.\n",
    "\n",
    "---\n",
    "\n",
    "## Interpreted Language\n",
    "\n",
    "Unlike many languages that require a compilation step (C, C++, Java, etc.), **Python is interpreted**:\n",
    "- Your code is executed directly by an **interpreter**, without creating machine code binaries.\n",
    "- **Faster development cycle**: write code → run immediately → see results.\n",
    "\n",
    "---\n",
    "\n",
    "## Open Source Philosophy\n",
    "\n",
    "Python is **open source**, meaning:\n",
    "- Anyone can view and contribute to its source code.\n",
    "- This fosters a **large community** that actively develops libraries, bug fixes, and new features.\n",
    "\n",
    "---\n",
    "\n",
    "## Why Python for Data Mining?\n",
    "\n",
    "1. **Rich Ecosystem of Libraries**:  \n",
    "   Python offers libraries like **NumPy**, **pandas**, **scikit-learn**, **matplotlib**, and many more. These tools provide powerful functions for data manipulation, statistical analysis, and machine learning, making Python an ideal choice for **data mining** workflows.\n",
    "\n",
    "2. **Easy to Learn & Use**:  \n",
    "   - The language is renowned for its **readable syntax** and **straightforward** structure.\n",
    "   - Quick to prototype: you can implement data mining algorithms with fewer lines of code, helping you focus on **analysis** rather than low-level details.\n",
    "\n",
    "3. **Huge Community & Resources**:  \n",
    "   - A large user community offers extensive **tutorials**, **online forums**, and **packages**.  \n",
    "   - Many data mining and machine learning **frameworks** are Python-first or provide strong Python interfaces.\n",
    "\n",
    "4. **Integration & Flexibility**:  \n",
    "   - Python can integrate with databases, web services, and other tools, streamlining end-to-end data mining projects.  \n",
    "   - It supports diverse programming paradigms, including **object-oriented**, **imperative**, and **functional**.\n",
    "\n",
    "---\n",
    "\n",
    "## Python's Object-Oriented Paradigm\n",
    "\n",
    "Although you can program in a procedural style, Python supports **Object-Oriented Programming (OOP)**:\n",
    "- OOP helps **reduce system complexity** via **reusable** code components.\n",
    "- **Objects** combine data (attributes) and procedures (methods).\n",
    "- These objects are instantiated from **classes**, which define the blueprint of the objects’ data and behavior.\n",
    "\n",
    "By combining **object orientation**, an **intuitive syntax**, and a **vast data analysis ecosystem**, **Python** is a powerful and accessible language for **data mining** tasks.\n"
   ]
  },
  {
   "cell_type": "markdown",
   "id": "e7709c5e54236f0c",
   "metadata": {},
   "source": [
    "## 1.1 Python IDE (Integrated Development Environment)\n",
    "\n",
    "While you can execute Python scripts directly from the command line (e.g., running `python <program>.py`), this approach does not easily scale for **larger projects** or **iterative exploration**—both of which are common in **data mining**. An **IDE (Integrated Development Environment)** or a dedicated code editor is typically preferred to manage projects, navigate code, and debug more effectively.\n",
    "\n",
    "### Jupyter Notebook\n",
    "\n",
    "In this course, we will make extensive use of **Jupyter Notebook**:\n",
    "\n",
    "- **Origin**: Jupyter was born from the IPython project in 2014.  \n",
    "- **Structure**: It is a web application based on a **client-server** architecture, allowing you to create and manipulate documents known as *notebooks*.  \n",
    "- **Notebook Features**:  \n",
    "  - A notebook file is composed of *cells* which can be executed **independently** (using `Ctrl+Enter` or `Shift+Enter` to run and move to the next cell).  \n",
    "  - All cells share the **same memory** (namespace). This means if you declare or modify a variable in one cell, you can access it in another cell—provided you run the former before the latter.  \n",
    "\n",
    "### Why Use Jupyter Notebooks in Data Mining?\n",
    "\n",
    "1. **Interactive Data Exploration**:  \n",
    "   Data mining workflows often involve quickly testing ideas, plotting intermediate results, and revising steps. Jupyter's cell-based execution allows you to:\n",
    "   - Tweak data cleaning steps or model parameters on the fly.  \n",
    "   - Immediately visualize results (e.g., with libraries like matplotlib or seaborn).  \n",
    "\n",
    "2. **Reproducibility and Collaboration**:  \n",
    "   - Notebooks combine **code, outputs, and narrative** (markdown text, equations, etc.) in a single document.  \n",
    "   - This makes it easier to share your data mining process (data preparation, exploratory analysis, modeling, etc.) with others.  \n",
    "\n",
    "3. **Ease of Debugging and Prototyping**:  \n",
    "   - You can isolate segments of logic (data transformation, model fitting) in different cells.  \n",
    "   - If something goes wrong in your data pipeline or model training, only re-run the relevant cell instead of the entire script.  \n",
    "\n",
    "Given these benefits, Jupyter Notebook is particularly well-suited for **iterative, experimental** data mining tasks where **rapid feedback** and **in-code documentation** are essential. Go ahead and **try** executing the cells in the provided notebook to see how variables can be defined in one cell and re-used in another!"
   ]
  },
  {
   "cell_type": "code",
   "execution_count": null,
   "id": "initial_id",
   "metadata": {},
   "outputs": [],
   "source": [
    "a = 5"
   ]
  },
  {
   "cell_type": "code",
   "execution_count": null,
   "id": "b753bc8aa483034",
   "metadata": {},
   "outputs": [],
   "source": [
    "print(a)"
   ]
  },
  {
   "cell_type": "markdown",
   "id": "9714daf05419c101",
   "metadata": {},
   "source": [
    "Notebooks show a sequential structure (each cell is executed after the previous one). They allow to display the results of computation using rich media representations, such as HTML, LaTeX, PNG, SVG. They are very usefull to communicate results.\n",
    "\n",
    "However, for really big projects, the use of an IDE that offers code completion or code insight by highlighting, resource management, debugging tools will be helpuf. Visual Studio Code, PyCharm or Spyder are some of them."
   ]
  },
  {
   "cell_type": "markdown",
   "id": "789e48bfa8ed4ec1",
   "metadata": {},
   "source": [
    "## 2. Packages\n",
    "\n",
    "We strongly recommend installing **Anaconda** to set up your Python environment. Anaconda is available for the three main operating systems (Linux, Windows, and macOS). It comes with a powerful **package manager** called `conda`, which simplifies the download and installation of additional libraries. (You can also use `pip`, but mixing `pip` and `conda` within the same environment can sometimes lead to dependency conflicts.)\n",
    "\n",
    "Once Anaconda is installed, open a terminal (or Anaconda Prompt on Windows) and install packages such as **scikit-learn**, **numpy**, **pandas**, and **matplotlib**. For example:\n",
    "\n",
    "```bash\n",
    "conda install scikit-learn numpy pandas matplotlib\n",
    "```\n",
    "\n",
    "*(You could also use `pip install <packages>`, but try to stay consistent with one approach.)*\n",
    "\n",
    "---\n",
    "\n",
    "## 3. Syntax\n",
    "\n",
    "Python syntax **does away with curly braces** (like `{ }`) for code blocks. Instead, it relies on **indentation** to define blocks (e.g., within `if`-`else`, `for` loops, function definitions, etc.). The **colon** (`:`) indicates where a new indentation block starts.\n",
    "\n",
    "Example:\n",
    "\n",
    "```python\n",
    "a = 5\n",
    "\n",
    "if a == 5:\n",
    "    print(\"a is equal to 5\")\n",
    "else:\n",
    "    print(\"Sadly a is not a beautiful 5 anymore :'(\")\n",
    "```\n",
    "\n",
    "Note how the block under `if a == 5:` is indented at least one level to indicate the code that belongs to that condition.\n"
   ]
  },
  {
   "cell_type": "code",
   "execution_count": 1,
   "id": "4e02bbdfd80e9fba",
   "metadata": {
    "ExecuteTime": {
     "end_time": "2025-01-22T08:28:57.626758Z",
     "start_time": "2025-01-22T08:28:57.621701Z"
    }
   },
   "outputs": [
    {
     "name": "stdout",
     "output_type": "stream",
     "text": [
      "a is equal to 5\n"
     ]
    }
   ],
   "source": [
    "a = 5\n",
    "if a == 5:\n",
    "  print(\"a is equal to 5\")\n",
    "else:\n",
    "  print(\"Sadly a is not a beautiful 5 anymore :'(\")"
   ]
  },
  {
   "cell_type": "markdown",
   "id": "53a8cd6b42fbe293",
   "metadata": {},
   "source": [
    "## 4. Data Types\n",
    "\n",
    "In Python, **data types** define the kind of values a variable can hold. Two common examples are **numeric** types and **boolean** types.\n",
    "\n",
    "---\n",
    "\n",
    "### 4.1 Numeric\n",
    "\n",
    "Python supports several numeric data types, including:\n",
    "- **int** (integer)\n",
    "- **float** (floating-point)\n",
    "- **complex** (complex numbers with a real and imaginary part)\n",
    "\n",
    "**Examples:**"
   ]
  },
  {
   "cell_type": "code",
   "execution_count": 2,
   "id": "b0bfe57b658212a9",
   "metadata": {
    "ExecuteTime": {
     "end_time": "2025-01-22T08:33:59.872996Z",
     "start_time": "2025-01-22T08:33:59.867170Z"
    }
   },
   "outputs": [
    {
     "name": "stdout",
     "output_type": "stream",
     "text": [
      "Value of a = 5 | Type of a: <class 'int'>\n",
      "Value of b = 5.0 | Type of b: <class 'float'>\n",
      "Value of c = (2+4j) | Type of c: <class 'complex'>\n"
     ]
    }
   ],
   "source": [
    "a = 5\n",
    "print(\"Value of a =\", a, \"| Type of a:\", type(a))\n",
    "\n",
    "b = 5.0\n",
    "print(\"Value of b =\", b, \"| Type of b:\", type(b))\n",
    "\n",
    "c = 2 + 4j\n",
    "print(\"Value of c =\", c, \"| Type of c:\", type(c))"
   ]
  },
  {
   "cell_type": "markdown",
   "id": "4b93d130c7f45ef9",
   "metadata": {},
   "source": [
    "### 4.2 Boolean\n",
    "\n",
    "A **Boolean** type can only have one of two values: `True` or `False`. These values are heavily used for **logical** operations and **conditional** checks in Python."
   ]
  },
  {
   "cell_type": "code",
   "execution_count": 3,
   "id": "111b02dc647d782a",
   "metadata": {
    "ExecuteTime": {
     "end_time": "2025-01-22T08:35:56.687213Z",
     "start_time": "2025-01-22T08:35:56.684603Z"
    }
   },
   "outputs": [
    {
     "name": "stdout",
     "output_type": "stream",
     "text": [
      "Value of is_sunny = True | Type of is_sunny: <class 'bool'>\n",
      "Value of is_raining = False | Type of is_raining: <class 'bool'>\n"
     ]
    }
   ],
   "source": [
    "is_sunny = True\n",
    "print(\"Value of is_sunny =\", is_sunny, \"| Type of is_sunny:\", type(is_sunny))\n",
    "\n",
    "is_raining = False\n",
    "print(\"Value of is_raining =\", is_raining, \"| Type of is_raining:\", type(is_raining))"
   ]
  },
  {
   "cell_type": "markdown",
   "id": "db519746fd89a7d",
   "metadata": {},
   "source": [
    "<div style=\"border: 2px solid darkblue; padding: 10px; background-color: #89D9F5;\">\n",
    "\n",
    "##### **Exercise**\n",
    "\n",
    "1. Create three variables in Python:\n",
    "   - One integer `my_int` (e.g., `my_int = 7`)\n",
    "   - One float `my_float` (e.g., `my_float = 3.14`)\n",
    "   - One boolean `my_bool` (e.g., `my_bool = True`)\n",
    "\n",
    "2. Write a small script to ask the user to guess which data type each variable has.\n",
    " ```python\n",
    "   guess = input(\"What type is 'my_float'? (int, float, complex, bool): \")\n",
    "   if guess == \"float\":\n",
    "       print(\"Correct!\")\n",
    "   else:\n",
    "       print(\"Nope, it's a float.\")\n",
    " ```\n",
    "\n",
    "3. Print out the actual types of the three variables using `type()`, and confirm whether the user's guesses are correct.\n",
    "\n",
    "4. Modify one of your variables to another data type (e.g., turn an integer into a float). What changes do you need to make in your code, if any, to handle this modification?\n",
    "\n",
    "**Goal**: This exercise helps you practice:\n",
    "- Declaring variables of different data types.\n",
    "- Using `type()` to inspect Python’s type system.\n",
    "- Writing simple conditional logic with booleans (i.e., comparing user input to the correct answer).\n",
    "\n",
    "</div>"
   ]
  },
  {
   "cell_type": "code",
   "execution_count": null,
   "id": "78e561b4-acd5-4129-a739-0d2c1f793d49",
   "metadata": {},
   "outputs": [],
   "source": []
  },
  {
   "cell_type": "markdown",
   "id": "53fff3d6517235ec",
   "metadata": {},
   "source": [
    "#### **Solution to the Data Types Exercise**\n",
    "\n",
    "Below is an example solution that follows the four steps outlined in the exercise. You can copy this code into a Python file or Jupyter Notebook and run it. Feel free to customize variable names, prompts, and messages.\n",
    "\n"
   ]
  },
  {
   "cell_type": "code",
   "execution_count": 5,
   "id": "e6d63fb01657d8b2",
   "metadata": {
    "ExecuteTime": {
     "end_time": "2025-01-22T08:41:24.304545Z",
     "start_time": "2025-01-22T08:41:09.878236Z"
    }
   },
   "outputs": [
    {
     "name": "stdout",
     "output_type": "stream",
     "text": [
      "Correct! my_float is indeed a float.\n",
      "Correct! my_int is indeed an int.\n",
      "Correct! my_bool is indeed a boolean.\n",
      "\n",
      "--- Actual Types ---\n",
      "Type of my_int = <class 'int'>\n",
      "Type of my_float = <class 'float'>\n",
      "Type of my_bool = <class 'bool'>\n",
      "\n",
      "After modification, my_int = 7.0 and its type is <class 'float'>\n"
     ]
    }
   ],
   "source": [
    "# Step 1: Create three variables of different data types\n",
    "my_int = 7\n",
    "my_float = 3.14\n",
    "my_bool = True\n",
    "\n",
    "# Step 2: Write a script to ask the user about each variable's type\n",
    "# For demonstration, we prompt the user to guess the type of `my_float`.\n",
    "guess_float = input(\"What type is 'my_float'? (int, float, complex, bool): \")\n",
    "\n",
    "if guess_float.lower() == \"float\":\n",
    "    print(\"Correct! my_float is indeed a float.\")\n",
    "else:\n",
    "    print(\"Nope, it's a float.\")\n",
    "\n",
    "# Let's also ask the user about `my_int` and `my_bool`\n",
    "guess_int = input(\"What type is 'my_int'? (int, float, complex, bool): \")\n",
    "if guess_int.lower() == \"int\":\n",
    "    print(\"Correct! my_int is indeed an int.\")\n",
    "else:\n",
    "    print(\"Nope, it's an int.\")\n",
    "\n",
    "guess_bool = input(\"What type is 'my_bool'? (int, float, complex, bool): \")\n",
    "if guess_bool.lower() == \"bool\":\n",
    "    print(\"Correct! my_bool is indeed a boolean.\")\n",
    "else:\n",
    "    print(\"Nope, it's a boolean (bool).\")\n",
    "\n",
    "# Step 3: Print out the actual types\n",
    "print(\"\\n--- Actual Types ---\")\n",
    "print(\"Type of my_int =\", type(my_int))\n",
    "print(\"Type of my_float =\", type(my_float))\n",
    "print(\"Type of my_bool =\", type(my_bool))\n",
    "\n",
    "# Step 4: Modify one variable to another type\n",
    "# Let's change 'my_int' into a float by just assigning a float value:\n",
    "my_int = 7.0\n",
    "print(\"\\nAfter modification, my_int =\", my_int, \"and its type is\", type(my_int))\n",
    "\n",
    "# Note:\n",
    "# If we re-ran the same guessing logic, the correct answer for my_int would no longer be 'int' but 'float'.\n",
    "# However, there's no need to change other parts of the code unless our logic specifically depends on 'my_int' being an integer."
   ]
  },
  {
   "cell_type": "markdown",
   "id": "cd22064b8ce1107d",
   "metadata": {},
   "source": [
    "### 4.3 Sequence Type\n",
    "In Python, a **sequence** is an ordered collection of similar or different data types. Sequences allow you to store multiple values in an organized, efficient manner. There are several built-in sequence types:\n",
    "\n",
    "1. **String**: An array of bytes representing Unicode characters.\n",
    "2. **List**: An array-like structure that can contain multiple data types (e.g., integers, strings, objects). Lists are **mutable** (their elements can be changed).\n",
    "3. **Tuple**: Similar to a list, but **immutable** (their elements cannot be changed after creation).\n",
    "\n",
    "These three types support **slicing** and **indexing** using `[ ]`. Keep in mind that Python uses **zero-based indexing**.\n",
    "\n",
    "---\n",
    "\n",
    "#### **Strings**"
   ]
  },
  {
   "cell_type": "code",
   "execution_count": null,
   "id": "f3e0e1053b6fe058",
   "metadata": {},
   "outputs": [],
   "source": [
    "# Creation of a string \n",
    "myString = \"An example for LDATS2350 practical session\"\n",
    "print(\"An example of a String:\", myString, \"\\n\")"
   ]
  },
  {
   "cell_type": "markdown",
   "id": "5fe90af83d84729d",
   "metadata": {},
   "source": [
    "Key Point: Strings are immutable in Python; you can't change individual characters once the string is created.\n",
    "\n",
    "---\n",
    "\n",
    "#### Lists"
   ]
  },
  {
   "cell_type": "code",
   "execution_count": null,
   "id": "5bf5469176914ad",
   "metadata": {},
   "outputs": [],
   "source": [
    "# Creation of a list \n",
    "myList = [\"An\", \"example\", \"for\", \"LDATS2350\", \"practical\", \"session\"]\n",
    "print(\"An example of a List:\", myList)\n",
    "\n",
    "# Demonstrate mutability\n",
    "myList[3] = \"LDATS2340\"\n",
    "print(\"Lists are mutable:\", myList, \"\\n\")\n"
   ]
  },
  {
   "cell_type": "markdown",
   "id": "bf904ff90d8e8e99",
   "metadata": {},
   "source": [
    "Key Point: Lists can be modified in place (e.g., element reassignment, insertion, deletion).\n",
    "\n",
    "---\n",
    "\n",
    "#### Tuples\n"
   ]
  },
  {
   "cell_type": "code",
   "execution_count": null,
   "id": "a2f1c80e2ef7ac",
   "metadata": {},
   "outputs": [],
   "source": [
    "# Creation of a tuple \n",
    "myTuple = (\"An\", \"example\", \"for\", \"LELEC2900\", \"practical\", \"session\")\n",
    "print(\"An example of a Tuple:\", myTuple)\n",
    "\n",
    "# Demonstrate immutability\n",
    "try:\n",
    "    myTuple[3] = \"LELEC2800\"\n",
    "    print(\"Tuples are not mutable:\", myTuple, \"\\n\")\n",
    "except Exception as e:\n",
    "    print(\"Tuples are immutable. The system raised the following error:\", e, \"\\n\")\n"
   ]
  },
  {
   "cell_type": "markdown",
   "id": "550e2a5d14034cde",
   "metadata": {},
   "source": [
    "**Key Point**: Tuples are immutable; once created, their elements cannot be reassigned.\n",
    "\n",
    "---\n",
    "\n",
    "#### Sets\n",
    "\n",
    "A **set** is an unordered collection of data types that is:\n",
    "- **Iterable**\n",
    "- **Mutable**\n",
    "- **Has no duplicate elements**\n",
    "\n",
    "Unlike lists or tuples, **sets** do not preserve any particular order, and they do not support indexing or slicing with `[ ]`.\n",
    "\n",
    "\n"
   ]
  },
  {
   "cell_type": "code",
   "execution_count": null,
   "id": "c988f4a91af32a2",
   "metadata": {},
   "outputs": [],
   "source": [
    "# Creation of a set \n",
    "mySet = {\"An\", 8, \"example\", \"for\", True, \"LELEC2900\", \"practical\", \"session\"}\n",
    "print(\"An example of a Set:\", mySet)"
   ]
  },
  {
   "cell_type": "markdown",
   "id": "8ab0e8310206dead",
   "metadata": {},
   "source": [
    "**Key Point**:  \n",
    "- Sets are optimized for **membership testing** (e.g., `if \"LELEC2900\" in mySet:`).  \n",
    "- Since sets are unordered, you cannot do `mySet[0]`.\n",
    "\n",
    "---\n",
    "\n",
    "#### **Dictionary**\n",
    "\n",
    "A **dictionary** is an unordered collection of **key-value pairs**. It is often used to store large volumes of data and is optimized for quick **key-based** lookups."
   ]
  },
  {
   "cell_type": "code",
   "execution_count": null,
   "id": "189ac2c7dd980c02",
   "metadata": {},
   "outputs": [],
   "source": [
    "# Creation of a dictionary\n",
    "myDict = {\n",
    "    1: \"An\",\n",
    "    2: \"example\",\n",
    "    3: \"for\",\n",
    "    'key': \"LELEC2900\",\n",
    "    'keybis': \"practical\",\n",
    "    'keyter': \"session\"\n",
    "}\n",
    "print(\"An example of a Dictionary:\", myDict)"
   ]
  },
  {
   "cell_type": "markdown",
   "id": "1783b42f0275fcbc",
   "metadata": {},
   "source": [
    "\n",
    "**Key Point**:  \n",
    "- Dictionaries allow you to retrieve values by referencing their **keys**, e.g. `myDict['key']` returns `\"LELEC2900\"`.  \n",
    "- Keys can be of different types (integers, strings, etc.) as long as they are **hashable**.\n",
    "\n",
    "---\n",
    "\n",
    "<div style=\"border: 2px solid darkblue; padding: 10px; background-color: #89D9F5;\">\n",
    "\n",
    "##### **Exercise**\n",
    "\n",
    "Create a script that manipulates these data structures:\n",
    "\n",
    "1. **Strings**:  \n",
    "   - Define a string called `course_title` (e.g., `\"LDATS2350 - Data Mining\"`) and print its length using `len(course_title)`.\n",
    "\n",
    "2. **Lists**:  \n",
    "   - Create a list of at least 5 elements (mix strings and integers).  \n",
    "   - Replace the 3rd element of the list with something new.  \n",
    "   - Print the modified list.\n",
    "\n",
    "3. **Tuples**:  \n",
    "   - Define a tuple with exactly 3 elements.  \n",
    "   - Attempt to change one of those elements (handle or display any error message that arises).\n",
    "\n",
    "4. **Sets**:  \n",
    "   - Create a set that contains at least one string, one integer, and one boolean.  \n",
    "   - Check if a certain element (e.g., a string) is in the set, and print the result.\n",
    "\n",
    "5. **Dictionaries**:  \n",
    "   - Create a dictionary that maps **course codes** to **course names** (e.g., `'LDATS2350': \"Data Mining\"`).  \n",
    "   - Print the value associated with `'LDATS2350'`.  \n",
    "   - Add a new key-value pair and print the entire dictionary again.\n",
    "\n",
    "**Bonus**:  \n",
    "- Write a short piece of code that asks the user for a **dictionary key** and prints out the corresponding value if it exists. If it doesn’t exist, print an appropriate message.\n",
    "\n",
    "</div>\n"
   ]
  },
  {
   "cell_type": "code",
   "execution_count": null,
   "id": "7beb4f32-32b2-477b-8022-bb0d38c1c45b",
   "metadata": {},
   "outputs": [],
   "source": []
  },
  {
   "cell_type": "markdown",
   "id": "f45516057a49ef39",
   "metadata": {
    "jp-MarkdownHeadingCollapsed": true
   },
   "source": [
    "##### **Solution to the Exercise**\n",
    "\n",
    "Below is an example solution to each step, showing how to create and manipulate the different data types in Python. You can copy this code into a script or a Jupyter Notebook cell.\n"
   ]
  },
  {
   "cell_type": "code",
   "execution_count": 6,
   "id": "4e5be5cde882a0c3",
   "metadata": {
    "ExecuteTime": {
     "end_time": "2025-01-22T08:57:29.551325Z",
     "start_time": "2025-01-22T08:57:20.896198Z"
    }
   },
   "outputs": [
    {
     "name": "stdout",
     "output_type": "stream",
     "text": [
      "Course title: LDATS2350 - Data Mining\n",
      "Length of course_title: 23\n",
      "\n",
      "Original list: ['Hello', 42, 'Python', 3.14, 'LDATS2350']\n",
      "List after modification: ['Hello', 42, 'Changed', 3.14, 'LDATS2350']\n",
      "\n",
      "Original tuple: ('A', 'B', 'C')\n",
      "Tuples are immutable! Error message: 'tuple' object does not support item assignment\n",
      "\n",
      "Created set: {True, 'Data', 'LDATS2350', 7}\n",
      "'Data' is in the set.\n",
      "\n",
      "Dictionary of courses: {'LDATS2350': 'Data Mining', 'LDATS1000': 'Intro to Python'}\n",
      "Value associated with 'LDATS2350': Data Mining\n",
      "Updated dictionary: {'LDATS2350': 'Data Mining', 'LDATS1000': 'Intro to Python', 'LDATS3000': 'Advanced Machine Learning'}\n",
      "\n",
      "--- BONUS ---\n",
      "Value for 'LDATS2350': Data Mining\n"
     ]
    }
   ],
   "source": [
    "# 1. STRINGS\n",
    "course_title = \"LDATS2350 - Data Mining\"\n",
    "print(\"Course title:\", course_title)\n",
    "print(\"Length of course_title:\", len(course_title))\n",
    "\n",
    "# 2. LISTS\n",
    "my_list = [\"Hello\", 42, \"Python\", 3.14, \"LDATS2350\"]\n",
    "print(\"\\nOriginal list:\", my_list)\n",
    "\n",
    "# Replace the 3rd element (index 2) with something new\n",
    "my_list[2] = \"Changed\"\n",
    "print(\"List after modification:\", my_list)\n",
    "\n",
    "# 3. TUPLES\n",
    "my_tuple = (\"A\", \"B\", \"C\")\n",
    "print(\"\\nOriginal tuple:\", my_tuple)\n",
    "\n",
    "# Attempt to change the second element (index 1)\n",
    "try:\n",
    "    my_tuple[1] = \"Z\"\n",
    "except TypeError as e:\n",
    "    print(\"Tuples are immutable! Error message:\", e)\n",
    "\n",
    "# 4. SETS\n",
    "my_set = {\"LDATS2350\", 7, True, \"Data\"}\n",
    "print(\"\\nCreated set:\", my_set)\n",
    "\n",
    "# Check membership\n",
    "element_to_check = \"Data\"\n",
    "if element_to_check in my_set:\n",
    "    print(f\"'{element_to_check}' is in the set.\")\n",
    "else:\n",
    "    print(f\"'{element_to_check}' is NOT in the set.\")\n",
    "\n",
    "# 5. DICTIONARIES\n",
    "course_dict = {\n",
    "    \"LDATS2350\": \"Data Mining\",\n",
    "    \"LDATS1000\": \"Intro to Python\"\n",
    "}\n",
    "print(\"\\nDictionary of courses:\", course_dict)\n",
    "\n",
    "# Print value associated with 'LDATS2350'\n",
    "print(\"Value associated with 'LDATS2350':\", course_dict[\"LDATS2350\"])\n",
    "\n",
    "# Add a new key-value pair and print the dictionary\n",
    "course_dict[\"LDATS3000\"] = \"Advanced Machine Learning\"\n",
    "print(\"Updated dictionary:\", course_dict)\n",
    "\n",
    "# BONUS\n",
    "print(\"\\n--- BONUS ---\")\n",
    "user_key = input(\"Enter a course code to look up: \")\n",
    "\n",
    "if user_key in course_dict:\n",
    "    print(f\"Value for '{user_key}': {course_dict[user_key]}\")\n",
    "else:\n",
    "    print(f\"'{user_key}' does not exist in the dictionary.\")"
   ]
  }
 ],
 "metadata": {
  "kernelspec": {
   "display_name": "Python 3 (ipykernel)",
   "language": "python",
   "name": "python3"
  },
  "language_info": {
   "codemirror_mode": {
    "name": "ipython",
    "version": 3
   },
   "file_extension": ".py",
   "mimetype": "text/x-python",
   "name": "python",
   "nbconvert_exporter": "python",
   "pygments_lexer": "ipython3",
   "version": "3.12.7"
  }
 },
 "nbformat": 4,
 "nbformat_minor": 5
}
