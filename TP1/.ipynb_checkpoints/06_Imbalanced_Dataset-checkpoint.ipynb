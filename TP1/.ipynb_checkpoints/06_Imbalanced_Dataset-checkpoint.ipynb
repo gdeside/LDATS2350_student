{
 "cells": [
  {
   "cell_type": "markdown",
   "id": "9d015e9b-d361-4062-aa19-ed90ec7df564",
   "metadata": {},
   "source": [
    "# <span style=\"color:darkblue;\">[LDATS2350] - DATA MINING</span>\n",
    "\n",
    "### <span style=\"color:darkred;\">Python06 - Handling Imbalanced Datasets</span>\n",
    "\n",
    "**Prof. Robin Van Oirbeek**  \n",
    "\n",
    "<br/>\n",
    "\n",
    "**<span style=\"color:darkgreen;\">Guillaume Deside</span>** (<span style=\"color:gray;\">guillaume.deside@uclouvain.be</span>)\n",
    "\n",
    "---\n",
    "\n",
    "## **Objective**\n",
    "\n",
    "In this session, we will learn techniques to handle **imbalanced datasets**, where one class significantly outweighs others. Imbalanced datasets are common in real-world applications such as fraud detection, medical diagnoses, and customer churn prediction. Without addressing this imbalance, machine learning models tend to be biased toward the majority class, leading to poor performance on the minority class.\n",
    "\n",
    "---\n",
    "\n",
    "### **Techniques Covered**\n",
    "\n",
    "1. **Understanding the Problem**:\n",
    "   - Identify imbalance in the dataset using descriptive statistics and visualization.\n",
    "\n",
    "2. **Resampling Techniques**:\n",
    "   - **Oversampling**: Increase the number of samples in the minority class.\n",
    "   - **Undersampling**: Decrease the number of samples in the majority class.\n",
    "\n",
    "3. **Synthetic Techniques**:\n",
    "   - Use methods like **SMOTE (Synthetic Minority Oversampling Technique)** to create synthetic samples for the minority class.\n",
    "\n",
    "4. **Evaluation Metrics**:\n",
    "   - Use metrics like **precision**, **recall**, **F1-score**, and **ROC-AUC** to assess performance.\n",
    "\n",
    "5. **Weighted Algorithms**:\n",
    "   - Adjust weights in machine learning algorithms to balance the importance of each class.\n",
    "\n",
    "---"
   ]
  },
  {
   "cell_type": "code",
   "execution_count": 2,
   "id": "a2d0f861-f9aa-405a-8ef3-105b34ceeaec",
   "metadata": {},
   "outputs": [
    {
     "data": {
      "text/html": [
       "<div>\n",
       "<style scoped>\n",
       "    .dataframe tbody tr th:only-of-type {\n",
       "        vertical-align: middle;\n",
       "    }\n",
       "\n",
       "    .dataframe tbody tr th {\n",
       "        vertical-align: top;\n",
       "    }\n",
       "\n",
       "    .dataframe thead th {\n",
       "        text-align: right;\n",
       "    }\n",
       "</style>\n",
       "<table border=\"1\" class=\"dataframe\">\n",
       "  <thead>\n",
       "    <tr style=\"text-align: right;\">\n",
       "      <th></th>\n",
       "      <th>timespreg</th>\n",
       "      <th>gluctol</th>\n",
       "      <th>diaspb</th>\n",
       "      <th>triceps</th>\n",
       "      <th>insulin</th>\n",
       "      <th>massindex</th>\n",
       "      <th>pedigree</th>\n",
       "      <th>age</th>\n",
       "      <th>target</th>\n",
       "    </tr>\n",
       "  </thead>\n",
       "  <tbody>\n",
       "    <tr>\n",
       "      <th>0</th>\n",
       "      <td>6</td>\n",
       "      <td>148</td>\n",
       "      <td>72</td>\n",
       "      <td>35</td>\n",
       "      <td>0</td>\n",
       "      <td>33.6</td>\n",
       "      <td>0.627</td>\n",
       "      <td>50</td>\n",
       "      <td>1</td>\n",
       "    </tr>\n",
       "    <tr>\n",
       "      <th>1</th>\n",
       "      <td>1</td>\n",
       "      <td>85</td>\n",
       "      <td>66</td>\n",
       "      <td>29</td>\n",
       "      <td>0</td>\n",
       "      <td>26.6</td>\n",
       "      <td>0.351</td>\n",
       "      <td>31</td>\n",
       "      <td>0</td>\n",
       "    </tr>\n",
       "    <tr>\n",
       "      <th>2</th>\n",
       "      <td>8</td>\n",
       "      <td>183</td>\n",
       "      <td>64</td>\n",
       "      <td>0</td>\n",
       "      <td>0</td>\n",
       "      <td>23.3</td>\n",
       "      <td>0.672</td>\n",
       "      <td>32</td>\n",
       "      <td>1</td>\n",
       "    </tr>\n",
       "    <tr>\n",
       "      <th>3</th>\n",
       "      <td>1</td>\n",
       "      <td>89</td>\n",
       "      <td>66</td>\n",
       "      <td>23</td>\n",
       "      <td>94</td>\n",
       "      <td>28.1</td>\n",
       "      <td>0.167</td>\n",
       "      <td>21</td>\n",
       "      <td>0</td>\n",
       "    </tr>\n",
       "    <tr>\n",
       "      <th>4</th>\n",
       "      <td>0</td>\n",
       "      <td>137</td>\n",
       "      <td>40</td>\n",
       "      <td>35</td>\n",
       "      <td>168</td>\n",
       "      <td>43.1</td>\n",
       "      <td>2.288</td>\n",
       "      <td>33</td>\n",
       "      <td>1</td>\n",
       "    </tr>\n",
       "  </tbody>\n",
       "</table>\n",
       "</div>"
      ],
      "text/plain": [
       "   timespreg  gluctol  diaspb  triceps  insulin  massindex  pedigree  age  \\\n",
       "0          6      148      72       35        0       33.6     0.627   50   \n",
       "1          1       85      66       29        0       26.6     0.351   31   \n",
       "2          8      183      64        0        0       23.3     0.672   32   \n",
       "3          1       89      66       23       94       28.1     0.167   21   \n",
       "4          0      137      40       35      168       43.1     2.288   33   \n",
       "\n",
       "   target  \n",
       "0       1  \n",
       "1       0  \n",
       "2       1  \n",
       "3       0  \n",
       "4       1  "
      ]
     },
     "execution_count": 2,
     "metadata": {},
     "output_type": "execute_result"
    }
   ],
   "source": [
    "import pandas as pd\n",
    "df = pd.read_csv('../Data/diabetes.csv')\n",
    "df.head()"
   ]
  },
  {
   "cell_type": "markdown",
   "id": "25dd583b-8142-40c7-8d44-fe01a2332056",
   "metadata": {},
   "source": [
    "<div style=\"border: 2px solid darkblue; padding: 10px; background-color: #89D9F5;\">\n",
    "\n",
    "### **Exercise - Exploring Class Distribution in a Dataset**\n",
    "\n",
    "#### **Objective**\n",
    "Understand the **class distribution** in a dataset using **Pandas** for frequency counts and **Seaborn** for visualization. This exercise will help you identify whether your dataset is imbalanced.\n",
    "\n",
    "---\n",
    "\n",
    "#### **Instructions**\n",
    "\n",
    "1. **Inspect Class Frequencies**:\n",
    "   - Use `groupby()` and `size()` from Pandas to calculate the frequency of each class in the target variable.\n",
    "\n",
    "2. **Visualize Class Counts**:\n",
    "   - Use Seaborn's `countplot()` to create a bar chart showing the distribution of classes in the target variable.\n",
    "   - Label the axes appropriately for better understanding.\n",
    "\n",
    "3. **Customize the Plot**:\n",
    "   - Apply a predefined Seaborn style or Matplotlib style (e.g., `\"ggplot\"`) to enhance the plot's appearance.\n",
    "\n",
    "\n",
    "</div>\n",
    "\n"
   ]
  },
  {
   "cell_type": "code",
   "execution_count": null,
   "id": "3fa925f7-4d1e-4c9f-8c42-a03750960403",
   "metadata": {},
   "outputs": [],
   "source": []
  },
  {
   "cell_type": "raw",
   "id": "ed7d895d-e6ed-4044-aa8e-e09a5a3acb14",
   "metadata": {},
   "source": [
    "Expected output:\n",
    "target\n",
    "0    500\n",
    "1    268\n",
    "dtype: int64"
   ]
  },
  {
   "cell_type": "code",
   "execution_count": null,
   "id": "b67cdb0b-9db0-4129-99a7-e9c9706416ce",
   "metadata": {},
   "outputs": [],
   "source": []
  },
  {
   "cell_type": "markdown",
   "id": "60f396f4-68db-4f0e-b66d-bf0e1ff9d363",
   "metadata": {},
   "source": [
    "**Expected output**\n",
    "\n",
    "<img src=\"imbalaced_data.png\" />"
   ]
  },
  {
   "cell_type": "markdown",
   "id": "07b57db3-015a-416f-802e-d52f221d0b1a",
   "metadata": {},
   "source": [
    "<div style=\"border: 2px solid darkblue; padding: 10px; background-color: #89D9F5;\">\n",
    "\n",
    "### **Exercise - Evaluating Model Accuracy with `accuracy_score`**\n",
    "\n",
    "#### **Objective**\n",
    "Learn how to calculate the **accuracy** of a model's predictions using Scikit-Learn's `accuracy_score`. This exercise demonstrates how accuracy is computed and helps you interpret the metric when dealing with imbalanced datasets."
   ]
  },
  {
   "cell_type": "code",
   "execution_count": null,
   "id": "9213d63a-425f-422a-a622-56944a3e3cff",
   "metadata": {},
   "outputs": [],
   "source": []
  },
  {
   "cell_type": "raw",
   "id": "48cca9e3-6aba-470e-8dc4-fd1ad286faff",
   "metadata": {},
   "source": [
    "Expected output:\n",
    "\n",
    "Accuracy of baseline model: 0.65"
   ]
  },
  {
   "cell_type": "markdown",
   "id": "fde89ac8-3acc-4f3d-982f-fa36993b69cd",
   "metadata": {},
   "source": [
    "## Downsampling"
   ]
  },
  {
   "cell_type": "code",
   "execution_count": 7,
   "id": "636dcc18-c305-48cc-aeef-24e13f0b5db4",
   "metadata": {},
   "outputs": [
    {
     "data": {
      "text/plain": [
       "target\n",
       "0    268\n",
       "1    268\n",
       "Name: count, dtype: int64"
      ]
     },
     "execution_count": 7,
     "metadata": {},
     "output_type": "execute_result"
    }
   ],
   "source": [
    "from sklearn.utils import resample\n",
    "\n",
    "#Down-sample Majority Class\n",
    "#1) Separate majority and minority classes\n",
    "df_majority = df[df.target==0] #\"target\" is the name of the target column, change it accordingly to your dataset\n",
    "df_minority = df[df.target==1] #\"target\" is the name of the target column, change it accordingly to your dataset\n",
    " \n",
    "#2) Downsample majority class\n",
    "df_majority_downsampled = resample(df_majority, \n",
    "                                   replace=False,\n",
    "                                   n_samples=268,     # number of samples into the minority class (change it accordingly to your dataset)\n",
    "                                   random_state=123)  # reproducible results\n",
    " \n",
    "#3) Combine minority class with downsampled majority class\n",
    "df_downsampled = pd.concat([df_majority_downsampled, df_minority])\n",
    " \n",
    "#4) Display new class counts\n",
    "df_downsampled.target.value_counts() #\"target\" is the name of the target column, change it accordingly to your dataset"
   ]
  },
  {
   "cell_type": "markdown",
   "id": "a0ea31a8-f452-488a-ab27-85e2241d0f0e",
   "metadata": {},
   "source": [
    "## Oversampling"
   ]
  },
  {
   "cell_type": "code",
   "execution_count": 9,
   "id": "9370f060-48c5-413b-915d-88a43f8769c6",
   "metadata": {},
   "outputs": [
    {
     "data": {
      "text/plain": [
       "target\n",
       "1    500\n",
       "0    500\n",
       "Name: count, dtype: int64"
      ]
     },
     "execution_count": 9,
     "metadata": {},
     "output_type": "execute_result"
    }
   ],
   "source": [
    "from sklearn.utils import resample\n",
    "\n",
    "#Over-sample Minority Class\n",
    "#1) Separate majority and minority classes\n",
    "df_majority = df[df.target==0] #\"target\" is the name of the target column, change it accordingly to your dataset\n",
    "df_minority = df[df.target==1] #\"target\" is the name of the target column, change it accordingly to your dataset\n",
    " \n",
    "#2) Oversample minority class\n",
    "df_minority_oversampled = resample(df_minority, \n",
    "                                   replace=True,\n",
    "                                   n_samples=500,     # number of samples into the minority class (change it accordingly to your dataset)\n",
    "                                   random_state=123)  # reproducible results\n",
    " \n",
    "#3) Combine oversampled minority class with majority class\n",
    "df_oversampled = pd.concat([df_minority_oversampled, df_majority])\n",
    " \n",
    "#4) Display new class counts\n",
    "df_oversampled.target.value_counts() #\"target\" is the name of the target column, change it accordingly to your dataset"
   ]
  },
  {
   "cell_type": "code",
   "execution_count": null,
   "id": "6db79c6b-4981-4d1f-8b96-6468ca68061d",
   "metadata": {},
   "outputs": [],
   "source": []
  }
 ],
 "metadata": {
  "kernelspec": {
   "display_name": "Python 3 (ipykernel)",
   "language": "python",
   "name": "python3"
  },
  "language_info": {
   "codemirror_mode": {
    "name": "ipython",
    "version": 3
   },
   "file_extension": ".py",
   "mimetype": "text/x-python",
   "name": "python",
   "nbconvert_exporter": "python",
   "pygments_lexer": "ipython3",
   "version": "3.12.7"
  }
 },
 "nbformat": 4,
 "nbformat_minor": 5
}
